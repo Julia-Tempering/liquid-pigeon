{
 "cells": [
  {
   "cell_type": "code",
   "execution_count": 1,
   "metadata": {},
   "outputs": [
    {
     "data": {
      "text/plain": [
       "init_stan_ctdna (generic function with 1 method)"
      ]
     },
     "execution_count": 1,
     "metadata": {},
     "output_type": "execute_result"
    }
   ],
   "source": [
    "using BridgeStan\n",
    "using Pigeons\n",
    "using Random\n",
    "\n",
    "struct StanCtDNAModel end\n",
    "\n",
    "# initialize Stan model with ctdna data\n",
    "function init_stan_ctdna(n, num_clones, clone_cn_profiles, ctdna, scale)\n",
    "    stan_file = \"model/simple_model.stan\"\n",
    "    stan_data = Pigeons.json(; n=n, num_clones=num_clones, clone_cn_profiles=clone_cn_profiles, ctdna=ctdna, scale=scale)\n",
    "\n",
    "    return StanLogPotential(stan_file, stan_data, StanCtDNAModel())\n",
    "end\n"
   ]
  },
  {
   "cell_type": "code",
   "execution_count": 6,
   "metadata": {},
   "outputs": [
    {
     "name": "stdout",
     "output_type": "stream",
     "text": [
      "StanLogPotential{...}\n",
      "  model: StanModel\n",
      "    lib: Ptr{Nothing} @0x0000000001ea4dd0\n",
      "    stanmodel: Ptr{BridgeStan.StanModelStruct} @0x0000000001faf1d0\n",
      "    data: String \"{\\\"dim\\\" : 2,\\\"scale\\\" : 2.0}\"\n",
      "    seed: UInt32 0x000000cc\n",
      "  stan_file: String \"/home/matthew/.julia/packages/Pigeons/UUYm9/examples/stan/funnel.stan\"\n",
      "  data: Pigeons.Immutable{String}\n",
      "    hash: UInt64 0xe23920bf297290ac\n",
      "    data: String \"{\\\"dim\\\" : 2,\\\"scale\\\" : 2.0}\"\n",
      "  extra_information: Nothing nothing\n"
     ]
    },
    {
     "name": "stderr",
     "output_type": "stream",
     "text": [
      "\u001b[33m\u001b[1m┌ \u001b[22m\u001b[39m\u001b[33m\u001b[1mWarning: \u001b[22m\u001b[39mLoading a shared object '/home/matthew/.julia/packages/Pigeons/UUYm9/examples/stan/funnel_model.so' which is already loaded.\n",
      "\u001b[33m\u001b[1m│ \u001b[22m\u001b[39mIf the file has changed since the last time it was loaded, this load may not update the library!\n",
      "\u001b[33m\u001b[1m└ \u001b[22m\u001b[39m\u001b[90m@ BridgeStan ~/.julia/packages/BridgeStan/aKsXp/src/model.jl:58\u001b[39m\n"
     ]
    }
   ],
   "source": [
    "dump(Pigeons.stan_funnel(2))"
   ]
  },
  {
   "cell_type": "code",
   "execution_count": 8,
   "metadata": {},
   "outputs": [
    {
     "data": {
      "text/html": [
       "# 0 methods for generic function <b>toy_turing_unid_target</b> from \u001b[35mPigeons\u001b[39m<ul></ul>"
      ],
      "text/plain": [
       "# 0 methods for generic function \"toy_turing_unid_target\" from \u001b[35mPigeons\u001b[39m"
      ]
     },
     "execution_count": 8,
     "metadata": {},
     "output_type": "execute_result"
    }
   ],
   "source": [
    "methods(Pigeons.toy_turing_unid_target)\n"
   ]
  },
  {
   "cell_type": "code",
   "execution_count": 2,
   "metadata": {},
   "outputs": [
    {
     "name": "stdout",
     "output_type": "stream",
     "text": [
      "\u001b[1m5×1 DataFrame\u001b[0m\n",
      "\u001b[1m Row \u001b[0m│\u001b[1m Column1  \u001b[0m\n",
      "     │\u001b[90m Float64  \u001b[0m\n",
      "─────┼──────────\n",
      "   1 │ 0.404146\n",
      "   2 │ 0.394167\n",
      "   3 │ 0.392297\n",
      "   4 │ 0.385272\n",
      "   5 │ 0.39825\n",
      "\u001b[1m5×3 DataFrame\u001b[0m\n",
      "\u001b[1m Row \u001b[0m│\u001b[1m bin_id  \u001b[0m\u001b[1m Clone_0 \u001b[0m\u001b[1m Clone_1 \u001b[0m\n",
      "     │\u001b[90m String7 \u001b[0m\u001b[90m Int64   \u001b[0m\u001b[90m Int64   \u001b[0m\n",
      "─────┼───────────────────────────\n",
      "   1 │ bin_0         10        1\n",
      "   2 │ bin_1         10        1\n",
      "   3 │ bin_2         10        1\n",
      "   4 │ bin_3         10        1\n",
      "   5 │ bin_4         10        1\n"
     ]
    }
   ],
   "source": [
    "#read in data\n",
    "using CSV\n",
    "using DataFrames\n",
    "\n",
    "ctdna_path = \"data/ctdna.tsv\"\n",
    "clones_path = \"data/2-clones-simple.tsv\"\n",
    "\n",
    "ctdna_data = CSV.read(ctdna_path, DataFrame, delim='\\t',header=false)\n",
    "clones_data = CSV.read(clones_path, DataFrame, delim='\\t')\n",
    "# check the first few rows\n",
    "println(first(ctdna_data, 5))\n",
    "println(first(clones_data,5))\n"
   ]
  },
  {
   "cell_type": "code",
   "execution_count": 3,
   "metadata": {},
   "outputs": [
    {
     "data": {
      "text/plain": [
       "1.0"
      ]
     },
     "execution_count": 3,
     "metadata": {},
     "output_type": "execute_result"
    }
   ],
   "source": [
    "n = size(clones_data)[1]\n",
    "num_clones = size(clones_data)[2]-1\n",
    "scale = 1.0 #for simplicity\n",
    "# clones_data = Matrix(clones_data[:,2:3])\n",
    "# ctdna_data = Vector(ctdna_data[:,1])\n",
    "# pt = pigeons(target=init_stan_ctdna(n, num_clones, clones_data, ctdna_data, scale))\n",
    "\n",
    "# Note: Depending on the application, you might need a different setup for the reference model.\n"
   ]
  },
  {
   "cell_type": "code",
   "execution_count": 4,
   "metadata": {},
   "outputs": [
    {
     "name": "stdout",
     "output_type": "stream",
     "text": [
      "{\"ctdna\":[0.40414565801620483,0.39416712522506714,0.3922972083091736,0.3852720260620117,0.3982504606246948,0.41510510444641113,0.40069669485092163,0.40178537368774414,0.40535756945610046,0.3901507556438446,0.35494464635849,0.3953408896923065,0.4033311605453491,0.3931475579738617,0.37400615215301514,0.38480669260025024,0.39034488797187805,0.39247381687164307,0.40081900358200073,0.3932713568210602,0.39404648542404175,0.4087708592414856,0.3775710165500641,0.39758992195129395,0.37430280447006226,-0.6490795612335205,-0.6484686136245728,-0.6511326432228088,-0.6476861238479614,-0.6362817883491516,-0.6555114388465881,-0.6334537267684937,-0.6413617730140686,-0.6604368686676025,-0.6473173499107361,-0.6457176804542542,-0.6619637608528137,-0.6493025422096252,-0.6352083086967468,-0.6713491678237915,-0.5998506546020508,-0.6640127897262573,-0.6458156704902649,-0.6748106479644775,-0.6597251892089844,-0.6675729751586914,-0.6498703956604004,-0.6642107963562012,-0.6618372201919556,-0.6529645323753357],\"num_clones\":2,\"clone_cn_profiles\":[[10,1],[10,1],[10,1],[10,1],[10,1],[10,1],[10,1],[10,1],[10,1],[10,1],[10,1],[10,1],[10,1],[10,1],[10,1],[10,1],[10,1],[10,1],[10,1],[10,1],[10,1],[10,1],[10,1],[10,1],[10,1],[1,10],[1,10],[1,10],[1,10],[1,10],[1,10],[1,10],[1,10],[1,10],[1,10],[1,10],[1,10],[1,10],[1,10],[1,10],[1,10],[1,10],[1,10],[1,10],[1,10],[1,10],[1,10],[1,10],[1,10],[1,10]],\"scale\":1.0,\"n\":50}"
     ]
    }
   ],
   "source": [
    "using CSV\n",
    "using DataFrames\n",
    "using JSON\n",
    "data_dict = Dict(\n",
    "    \"n\" => n,\n",
    "    \"num_clones\" => num_clones,\n",
    "    \"clone_cn_profiles\" => transpose(Matrix(clones_data[:, 2:end])),  # Transpose to fit matrix[n, num_clones]\n",
    "    \"ctdna\" => Vector(ctdna_data[:,1]),  # This assumes you've added a 'ctdna' column to your DataFrame\n",
    "    \"scale\" => 1.0\n",
    ")\n",
    "json_data = JSON.json(data_dict)\n",
    "print(json_data)"
   ]
  },
  {
   "cell_type": "code",
   "execution_count": 5,
   "metadata": {},
   "outputs": [
    {
     "data": {
      "text/plain": [
       "StanLogPotential(simple_model_model)"
      ]
     },
     "execution_count": 5,
     "metadata": {},
     "output_type": "execute_result"
    }
   ],
   "source": [
    "stan_file = \"model/simple_model.stan\"\n",
    "StanLogPotential(stan_file,json_data)"
   ]
  },
  {
   "cell_type": "code",
   "execution_count": 6,
   "metadata": {},
   "outputs": [
    {
     "name": "stderr",
     "output_type": "stream",
     "text": [
      "\u001b[33m\u001b[1m┌ \u001b[22m\u001b[39m\u001b[33m\u001b[1mWarning: \u001b[22m\u001b[39mLoading a shared object '/home/matthew/laopo/liquid_pigeon/model/simple_model_model.so' which is already loaded.\n",
      "\u001b[33m\u001b[1m│ \u001b[22m\u001b[39mIf the file has changed since the last time it was loaded, this load may not update the library!\n",
      "\u001b[33m\u001b[1m└ \u001b[22m\u001b[39m\u001b[90m@ BridgeStan ~/.julia/packages/BridgeStan/aKsXp/src/model.jl:58\u001b[39m\n",
      "\u001b[33m\u001b[1m┌ \u001b[22m\u001b[39m\u001b[33m\u001b[1mWarning: \u001b[22m\u001b[39mIt looks like sample_iid!() is not implemented for a \n",
      "\u001b[33m\u001b[1m│ \u001b[22m\u001b[39mreference_log_potential of type StanLogPotential{...}. \n",
      "\u001b[33m\u001b[1m│ \u001b[22m\u001b[39mInstead, using step!(). \n",
      "\u001b[33m\u001b[1m└ \u001b[22m\u001b[39m\u001b[90m@ Pigeons ~/.julia/packages/Pigeons/UUYm9/src/targets/target.jl:51\u001b[39m\n"
     ]
    },
    {
     "name": "stdout",
     "output_type": "stream",
     "text": [
      "──────────────────────────────────────────────────────────────────────────────────────────────────\n",
      "  scans        Λ        time(s)    allc(B)  log(Z₁/Z₀)   min(α)     mean(α)    min(αₑ)   mean(αₑ) \n",
      "────────── ────────── ────────── ────────── ────────── ────────── ────────── ────────── ──────────\n",
      "        2   7.11e-15      0.326   1.98e+07   1.78e-14          1          1          0      0.456 \n",
      "        4   1.07e-14     0.0385   5.57e+04   3.55e-15          1          1      0.351      0.613 \n",
      "        8   1.07e-14     0.0896   1.06e+05   8.88e-15          1          1      0.394      0.608 \n",
      "       16   1.42e-14      0.168   2.07e+05   1.11e-15          1          1       0.54      0.654 \n",
      "       32    1.2e-14      0.368   2.68e+05  -2.22e-16          1          1      0.531      0.598 \n",
      "       64   1.54e-14      0.696   3.74e+05  -1.78e-15          1          1      0.593      0.663 \n",
      "      128   1.31e-14       1.47   6.25e+05   1.33e-15          1          1       0.57      0.623 \n",
      "      256   1.61e-14       2.83   1.07e+06  -8.88e-16          1          1      0.656      0.679 \n",
      "      512   1.17e-14       5.68   2.07e+06   4.44e-16          1          1      0.648       0.66 \n",
      " 1.02e+03      2e-14       11.3   3.86e+06          0          1          1       0.65      0.658 \n",
      "──────────────────────────────────────────────────────────────────────────────────────────────────\n"
     ]
    },
    {
     "data": {
      "text/plain": [
       "PT(checkpoint = false, ...)"
      ]
     },
     "execution_count": 6,
     "metadata": {},
     "output_type": "execute_result"
    }
   ],
   "source": [
    "pt = pigeons(target = StanLogPotential(stan_file,json_data), record = [traces; record_default()])"
   ]
  },
  {
   "cell_type": "code",
   "execution_count": 7,
   "metadata": {},
   "outputs": [
    {
     "name": "stdout",
     "output_type": "stream",
     "text": [
      "target_description...[skipped: no description provided]\n",
      "pair_plot..."
     ]
    },
    {
     "name": "stderr",
     "output_type": "stream",
     "text": [
      "\u001b[33m\u001b[1m┌ \u001b[22m\u001b[39m\u001b[33m\u001b[1mWarning: \u001b[22m\u001b[39mCould not compute valid contours\n",
      "\u001b[33m\u001b[1m└ \u001b[22m\u001b[39m\u001b[90m@ PairPlots ~/.julia/packages/PairPlots/QGv02/src/PairPlots.jl:1115\u001b[39m\n",
      "\u001b[33m\u001b[1m┌ \u001b[22m\u001b[39m\u001b[33m\u001b[1mWarning: \u001b[22m\u001b[39mCould not compute valid contours\n",
      "\u001b[33m\u001b[1m└ \u001b[22m\u001b[39m\u001b[90m@ PairPlots ~/.julia/packages/PairPlots/QGv02/src/PairPlots.jl:1115\u001b[39m\n",
      "\u001b[33m\u001b[1m┌ \u001b[22m\u001b[39m\u001b[33m\u001b[1mWarning: \u001b[22m\u001b[39mCould not compute valid contours\n",
      "\u001b[33m\u001b[1m└ \u001b[22m\u001b[39m\u001b[90m@ PairPlots ~/.julia/packages/PairPlots/QGv02/src/PairPlots.jl:1115\u001b[39m\n",
      "\u001b[33m\u001b[1m┌ \u001b[22m\u001b[39m\u001b[33m\u001b[1mWarning: \u001b[22m\u001b[39mCould not compute valid contours\n",
      "\u001b[33m\u001b[1m└ \u001b[22m\u001b[39m\u001b[90m@ PairPlots ~/.julia/packages/PairPlots/QGv02/src/PairPlots.jl:1115\u001b[39m\n",
      "\u001b[33m\u001b[1m┌ \u001b[22m\u001b[39m\u001b[33m\u001b[1mWarning: \u001b[22m\u001b[39mCould not compute valid contours\n",
      "\u001b[33m\u001b[1m└ \u001b[22m\u001b[39m\u001b[90m@ PairPlots ~/.julia/packages/PairPlots/QGv02/src/PairPlots.jl:1115\u001b[39m\n",
      "\u001b[33m\u001b[1m┌ \u001b[22m\u001b[39m\u001b[33m\u001b[1mWarning: \u001b[22m\u001b[39mCould not compute valid contours\n",
      "\u001b[33m\u001b[1m└ \u001b[22m\u001b[39m\u001b[90m@ PairPlots ~/.julia/packages/PairPlots/QGv02/src/PairPlots.jl:1115\u001b[39m\n",
      "\u001b[33m\u001b[1m┌ \u001b[22m\u001b[39m\u001b[33m\u001b[1mWarning: \u001b[22m\u001b[39mCould not compute valid contours\n",
      "\u001b[33m\u001b[1m└ \u001b[22m\u001b[39m\u001b[90m@ PairPlots ~/.julia/packages/PairPlots/QGv02/src/PairPlots.jl:1115\u001b[39m\n",
      "\u001b[33m\u001b[1m┌ \u001b[22m\u001b[39m\u001b[33m\u001b[1mWarning: \u001b[22m\u001b[39mCould not compute valid contours\n",
      "\u001b[33m\u001b[1m└ \u001b[22m\u001b[39m\u001b[90m@ PairPlots ~/.julia/packages/PairPlots/QGv02/src/PairPlots.jl:1115\u001b[39m\n",
      "\u001b[33m\u001b[1m┌ \u001b[22m\u001b[39m\u001b[33m\u001b[1mWarning: \u001b[22m\u001b[39mCould not compute valid contours\n",
      "\u001b[33m\u001b[1m└ \u001b[22m\u001b[39m\u001b[90m@ PairPlots ~/.julia/packages/PairPlots/QGv02/src/PairPlots.jl:1115\u001b[39m\n",
      "\u001b[33m\u001b[1m┌ \u001b[22m\u001b[39m\u001b[33m\u001b[1mWarning: \u001b[22m\u001b[39mCould not compute valid contours\n",
      "\u001b[33m\u001b[1m└ \u001b[22m\u001b[39m\u001b[90m@ PairPlots ~/.julia/packages/PairPlots/QGv02/src/PairPlots.jl:1115\u001b[39m\n",
      "\u001b[33m\u001b[1m┌ \u001b[22m\u001b[39m\u001b[33m\u001b[1mWarning: \u001b[22m\u001b[39mCould not compute valid contours\n",
      "\u001b[33m\u001b[1m└ \u001b[22m\u001b[39m\u001b[90m@ PairPlots ~/.julia/packages/PairPlots/QGv02/src/PairPlots.jl:1115\u001b[39m\n",
      "\u001b[33m\u001b[1m┌ \u001b[22m\u001b[39m\u001b[33m\u001b[1mWarning: \u001b[22m\u001b[39mCould not compute valid contours\n",
      "\u001b[33m\u001b[1m└ \u001b[22m\u001b[39m\u001b[90m@ PairPlots ~/.julia/packages/PairPlots/QGv02/src/PairPlots.jl:1115\u001b[39m\n",
      "\u001b[33m\u001b[1m┌ \u001b[22m\u001b[39m\u001b[33m\u001b[1mWarning: \u001b[22m\u001b[39mCould not compute valid contours\n",
      "\u001b[33m\u001b[1m└ \u001b[22m\u001b[39m\u001b[90m@ PairPlots ~/.julia/packages/PairPlots/QGv02/src/PairPlots.jl:1115\u001b[39m\n",
      "\u001b[33m\u001b[1m┌ \u001b[22m\u001b[39m\u001b[33m\u001b[1mWarning: \u001b[22m\u001b[39mCould not compute valid contours\n",
      "\u001b[33m\u001b[1m└ \u001b[22m\u001b[39m\u001b[90m@ PairPlots ~/.julia/packages/PairPlots/QGv02/src/PairPlots.jl:1115\u001b[39m\n",
      "\u001b[33m\u001b[1m┌ \u001b[22m\u001b[39m\u001b[33m\u001b[1mWarning: \u001b[22m\u001b[39mCould not compute valid contours\n",
      "\u001b[33m\u001b[1m└ \u001b[22m\u001b[39m\u001b[90m@ PairPlots ~/.julia/packages/PairPlots/QGv02/src/PairPlots.jl:1115\u001b[39m\n",
      "\u001b[33m\u001b[1m┌ \u001b[22m\u001b[39m\u001b[33m\u001b[1mWarning: \u001b[22m\u001b[39mCould not compute valid contours\n",
      "\u001b[33m\u001b[1m└ \u001b[22m\u001b[39m\u001b[90m@ PairPlots ~/.julia/packages/PairPlots/QGv02/src/PairPlots.jl:1115\u001b[39m\n",
      "\u001b[33m\u001b[1m┌ \u001b[22m\u001b[39m\u001b[33m\u001b[1mWarning: \u001b[22m\u001b[39mCould not compute valid contours\n",
      "\u001b[33m\u001b[1m└ \u001b[22m\u001b[39m\u001b[90m@ PairPlots ~/.julia/packages/PairPlots/QGv02/src/PairPlots.jl:1115\u001b[39m\n",
      "\u001b[33m\u001b[1m┌ \u001b[22m\u001b[39m\u001b[33m\u001b[1mWarning: \u001b[22m\u001b[39mCould not compute valid contours\n",
      "\u001b[33m\u001b[1m└ \u001b[22m\u001b[39m\u001b[90m@ PairPlots ~/.julia/packages/PairPlots/QGv02/src/PairPlots.jl:1115\u001b[39m\n",
      "\u001b[33m\u001b[1m┌ \u001b[22m\u001b[39m\u001b[33m\u001b[1mWarning: \u001b[22m\u001b[39mCould not compute valid contours\n",
      "\u001b[33m\u001b[1m└ \u001b[22m\u001b[39m\u001b[90m@ PairPlots ~/.julia/packages/PairPlots/QGv02/src/PairPlots.jl:1115\u001b[39m\n",
      "\u001b[33m\u001b[1m┌ \u001b[22m\u001b[39m\u001b[33m\u001b[1mWarning: \u001b[22m\u001b[39mCould not compute valid contours\n",
      "\u001b[33m\u001b[1m└ \u001b[22m\u001b[39m\u001b[90m@ PairPlots ~/.julia/packages/PairPlots/QGv02/src/PairPlots.jl:1115\u001b[39m\n",
      "\u001b[33m\u001b[1m┌ \u001b[22m\u001b[39m\u001b[33m\u001b[1mWarning: \u001b[22m\u001b[39mCould not compute valid contours\n",
      "\u001b[33m\u001b[1m└ \u001b[22m\u001b[39m\u001b[90m@ PairPlots ~/.julia/packages/PairPlots/QGv02/src/PairPlots.jl:1115\u001b[39m\n",
      "\u001b[33m\u001b[1m┌ \u001b[22m\u001b[39m\u001b[33m\u001b[1mWarning: \u001b[22m\u001b[39mCould not compute valid contours\n",
      "\u001b[33m\u001b[1m└ \u001b[22m\u001b[39m\u001b[90m@ PairPlots ~/.julia/packages/PairPlots/QGv02/src/PairPlots.jl:1115\u001b[39m\n",
      "\u001b[33m\u001b[1m┌ \u001b[22m\u001b[39m\u001b[33m\u001b[1mWarning: \u001b[22m\u001b[39mCould not compute valid contours\n",
      "\u001b[33m\u001b[1m└ \u001b[22m\u001b[39m\u001b[90m@ PairPlots ~/.julia/packages/PairPlots/QGv02/src/PairPlots.jl:1115\u001b[39m\n",
      "\u001b[33m\u001b[1m┌ \u001b[22m\u001b[39m\u001b[33m\u001b[1mWarning: \u001b[22m\u001b[39mCould not compute valid contours\n",
      "\u001b[33m\u001b[1m└ \u001b[22m\u001b[39m\u001b[90m@ PairPlots ~/.julia/packages/PairPlots/QGv02/src/PairPlots.jl:1115\u001b[39m\n",
      "\u001b[33m\u001b[1m┌ \u001b[22m\u001b[39m\u001b[33m\u001b[1mWarning: \u001b[22m\u001b[39mCould not compute valid contours\n",
      "\u001b[33m\u001b[1m└ \u001b[22m\u001b[39m\u001b[90m@ PairPlots ~/.julia/packages/PairPlots/QGv02/src/PairPlots.jl:1115\u001b[39m\n",
      "\u001b[33m\u001b[1m┌ \u001b[22m\u001b[39m\u001b[33m\u001b[1mWarning: \u001b[22m\u001b[39mCould not compute valid contours\n",
      "\u001b[33m\u001b[1m└ \u001b[22m\u001b[39m\u001b[90m@ PairPlots ~/.julia/packages/PairPlots/QGv02/src/PairPlots.jl:1115\u001b[39m\n",
      "\u001b[33m\u001b[1m┌ \u001b[22m\u001b[39m\u001b[33m\u001b[1mWarning: \u001b[22m\u001b[39mCould not compute valid contours\n",
      "\u001b[33m\u001b[1m└ \u001b[22m\u001b[39m\u001b[90m@ PairPlots ~/.julia/packages/PairPlots/QGv02/src/PairPlots.jl:1115\u001b[39m\n",
      "\u001b[33m\u001b[1m┌ \u001b[22m\u001b[39m\u001b[33m\u001b[1mWarning: \u001b[22m\u001b[39mCould not compute valid contours\n",
      "\u001b[33m\u001b[1m└ \u001b[22m\u001b[39m\u001b[90m@ PairPlots ~/.julia/packages/PairPlots/QGv02/src/PairPlots.jl:1115\u001b[39m\n",
      "\u001b[33m\u001b[1m┌ \u001b[22m\u001b[39m\u001b[33m\u001b[1mWarning: \u001b[22m\u001b[39mCould not compute valid contours\n",
      "\u001b[33m\u001b[1m└ \u001b[22m\u001b[39m\u001b[90m@ PairPlots ~/.julia/packages/PairPlots/QGv02/src/PairPlots.jl:1115\u001b[39m\n",
      "\u001b[33m\u001b[1m┌ \u001b[22m\u001b[39m\u001b[33m\u001b[1mWarning: \u001b[22m\u001b[39mCould not compute valid contours\n",
      "\u001b[33m\u001b[1m└ \u001b[22m\u001b[39m\u001b[90m@ PairPlots ~/.julia/packages/PairPlots/QGv02/src/PairPlots.jl:1115\u001b[39m\n",
      "\u001b[33m\u001b[1m┌ \u001b[22m\u001b[39m\u001b[33m\u001b[1mWarning: \u001b[22m\u001b[39mCould not compute valid contours\n",
      "\u001b[33m\u001b[1m└ \u001b[22m\u001b[39m\u001b[90m@ PairPlots ~/.julia/packages/PairPlots/QGv02/src/PairPlots.jl:1115\u001b[39m\n",
      "\u001b[33m\u001b[1m┌ \u001b[22m\u001b[39m\u001b[33m\u001b[1mWarning: \u001b[22m\u001b[39mCould not compute valid contours\n",
      "\u001b[33m\u001b[1m└ \u001b[22m\u001b[39m\u001b[90m@ PairPlots ~/.julia/packages/PairPlots/QGv02/src/PairPlots.jl:1115\u001b[39m\n",
      "\u001b[33m\u001b[1m┌ \u001b[22m\u001b[39m\u001b[33m\u001b[1mWarning: \u001b[22m\u001b[39mCould not compute valid contours\n",
      "\u001b[33m\u001b[1m└ \u001b[22m\u001b[39m\u001b[90m@ PairPlots ~/.julia/packages/PairPlots/QGv02/src/PairPlots.jl:1115\u001b[39m\n",
      "\u001b[33m\u001b[1m┌ \u001b[22m\u001b[39m\u001b[33m\u001b[1mWarning: \u001b[22m\u001b[39mCould not compute valid contours\n",
      "\u001b[33m\u001b[1m└ \u001b[22m\u001b[39m\u001b[90m@ PairPlots ~/.julia/packages/PairPlots/QGv02/src/PairPlots.jl:1115\u001b[39m\n",
      "\u001b[33m\u001b[1m┌ \u001b[22m\u001b[39m\u001b[33m\u001b[1mWarning: \u001b[22m\u001b[39mCould not compute valid contours\n",
      "\u001b[33m\u001b[1m└ \u001b[22m\u001b[39m\u001b[90m@ PairPlots ~/.julia/packages/PairPlots/QGv02/src/PairPlots.jl:1115\u001b[39m\n",
      "\u001b[33m\u001b[1m┌ \u001b[22m\u001b[39m\u001b[33m\u001b[1mWarning: \u001b[22m\u001b[39mCould not compute valid contours\n",
      "\u001b[33m\u001b[1m└ \u001b[22m\u001b[39m\u001b[90m@ PairPlots ~/.julia/packages/PairPlots/QGv02/src/PairPlots.jl:1115\u001b[39m\n",
      "\u001b[33m\u001b[1m┌ \u001b[22m\u001b[39m\u001b[33m\u001b[1mWarning: \u001b[22m\u001b[39mCould not compute valid contours\n",
      "\u001b[33m\u001b[1m└ \u001b[22m\u001b[39m\u001b[90m@ PairPlots ~/.julia/packages/PairPlots/QGv02/src/PairPlots.jl:1115\u001b[39m\n",
      "\u001b[33m\u001b[1m┌ \u001b[22m\u001b[39m\u001b[33m\u001b[1mWarning: \u001b[22m\u001b[39mCould not compute valid contours\n",
      "\u001b[33m\u001b[1m└ \u001b[22m\u001b[39m\u001b[90m@ PairPlots ~/.julia/packages/PairPlots/QGv02/src/PairPlots.jl:1115\u001b[39m\n",
      "\u001b[33m\u001b[1m┌ \u001b[22m\u001b[39m\u001b[33m\u001b[1mWarning: \u001b[22m\u001b[39mCould not compute valid contours\n",
      "\u001b[33m\u001b[1m└ \u001b[22m\u001b[39m\u001b[90m@ PairPlots ~/.julia/packages/PairPlots/QGv02/src/PairPlots.jl:1115\u001b[39m\n",
      "\u001b[33m\u001b[1m┌ \u001b[22m\u001b[39m\u001b[33m\u001b[1mWarning: \u001b[22m\u001b[39mCould not compute valid contours\n",
      "\u001b[33m\u001b[1m└ \u001b[22m\u001b[39m\u001b[90m@ PairPlots ~/.julia/packages/PairPlots/QGv02/src/PairPlots.jl:1115\u001b[39m\n",
      "\u001b[33m\u001b[1m┌ \u001b[22m\u001b[39m\u001b[33m\u001b[1mWarning: \u001b[22m\u001b[39mCould not compute valid contours\n",
      "\u001b[33m\u001b[1m└ \u001b[22m\u001b[39m\u001b[90m@ PairPlots ~/.julia/packages/PairPlots/QGv02/src/PairPlots.jl:1115\u001b[39m\n",
      "\u001b[33m\u001b[1m┌ \u001b[22m\u001b[39m\u001b[33m\u001b[1mWarning: \u001b[22m\u001b[39mCould not compute valid contours\n",
      "\u001b[33m\u001b[1m└ \u001b[22m\u001b[39m\u001b[90m@ PairPlots ~/.julia/packages/PairPlots/QGv02/src/PairPlots.jl:1115\u001b[39m\n",
      "\u001b[33m\u001b[1m┌ \u001b[22m\u001b[39m\u001b[33m\u001b[1mWarning: \u001b[22m\u001b[39mCould not compute valid contours\n",
      "\u001b[33m\u001b[1m└ \u001b[22m\u001b[39m\u001b[90m@ PairPlots ~/.julia/packages/PairPlots/QGv02/src/PairPlots.jl:1115\u001b[39m\n",
      "\u001b[33m\u001b[1m┌ \u001b[22m\u001b[39m\u001b[33m\u001b[1mWarning: \u001b[22m\u001b[39mCould not compute valid contours\n",
      "\u001b[33m\u001b[1m└ \u001b[22m\u001b[39m\u001b[90m@ PairPlots ~/.julia/packages/PairPlots/QGv02/src/PairPlots.jl:1115\u001b[39m\n",
      "\u001b[33m\u001b[1m┌ \u001b[22m\u001b[39m\u001b[33m\u001b[1mWarning: \u001b[22m\u001b[39mCould not compute valid contours\n",
      "\u001b[33m\u001b[1m└ \u001b[22m\u001b[39m\u001b[90m@ PairPlots ~/.julia/packages/PairPlots/QGv02/src/PairPlots.jl:1115\u001b[39m\n",
      "\u001b[33m\u001b[1m┌ \u001b[22m\u001b[39m\u001b[33m\u001b[1mWarning: \u001b[22m\u001b[39mCould not compute valid contours\n",
      "\u001b[33m\u001b[1m└ \u001b[22m\u001b[39m\u001b[90m@ PairPlots ~/.julia/packages/PairPlots/QGv02/src/PairPlots.jl:1115\u001b[39m\n",
      "\u001b[33m\u001b[1m┌ \u001b[22m\u001b[39m\u001b[33m\u001b[1mWarning: \u001b[22m\u001b[39mCould not compute valid contours\n",
      "\u001b[33m\u001b[1m└ \u001b[22m\u001b[39m\u001b[90m@ PairPlots ~/.julia/packages/PairPlots/QGv02/src/PairPlots.jl:1115\u001b[39m\n",
      "\u001b[33m\u001b[1m┌ \u001b[22m\u001b[39m\u001b[33m\u001b[1mWarning: \u001b[22m\u001b[39mCould not compute valid contours\n",
      "\u001b[33m\u001b[1m└ \u001b[22m\u001b[39m\u001b[90m@ PairPlots ~/.julia/packages/PairPlots/QGv02/src/PairPlots.jl:1115\u001b[39m\n",
      "\u001b[33m\u001b[1m┌ \u001b[22m\u001b[39m\u001b[33m\u001b[1mWarning: \u001b[22m\u001b[39mCould not compute valid contours\n",
      "\u001b[33m\u001b[1m└ \u001b[22m\u001b[39m\u001b[90m@ PairPlots ~/.julia/packages/PairPlots/QGv02/src/PairPlots.jl:1115\u001b[39m\n",
      "\u001b[33m\u001b[1m┌ \u001b[22m\u001b[39m\u001b[33m\u001b[1mWarning: \u001b[22m\u001b[39mCould not compute valid contours\n",
      "\u001b[33m\u001b[1m└ \u001b[22m\u001b[39m\u001b[90m@ PairPlots ~/.julia/packages/PairPlots/QGv02/src/PairPlots.jl:1115\u001b[39m\n",
      "\u001b[33m\u001b[1m┌ \u001b[22m\u001b[39m\u001b[33m\u001b[1mWarning: \u001b[22m\u001b[39mCould not compute valid contours\n",
      "\u001b[33m\u001b[1m└ \u001b[22m\u001b[39m\u001b[90m@ PairPlots ~/.julia/packages/PairPlots/QGv02/src/PairPlots.jl:1115\u001b[39m\n",
      "\u001b[33m\u001b[1m┌ \u001b[22m\u001b[39m\u001b[33m\u001b[1mWarning: \u001b[22m\u001b[39mCould not compute valid contours\n",
      "\u001b[33m\u001b[1m└ \u001b[22m\u001b[39m\u001b[90m@ PairPlots ~/.julia/packages/PairPlots/QGv02/src/PairPlots.jl:1115\u001b[39m\n",
      "\u001b[33m\u001b[1m┌ \u001b[22m\u001b[39m\u001b[33m\u001b[1mWarning: \u001b[22m\u001b[39mCould not compute valid contours\n",
      "\u001b[33m\u001b[1m└ \u001b[22m\u001b[39m\u001b[90m@ PairPlots ~/.julia/packages/PairPlots/QGv02/src/PairPlots.jl:1115\u001b[39m\n",
      "\u001b[33m\u001b[1m┌ \u001b[22m\u001b[39m\u001b[33m\u001b[1mWarning: \u001b[22m\u001b[39mCould not compute valid contours\n",
      "\u001b[33m\u001b[1m└ \u001b[22m\u001b[39m\u001b[90m@ PairPlots ~/.julia/packages/PairPlots/QGv02/src/PairPlots.jl:1115\u001b[39m\n",
      "\u001b[33m\u001b[1m┌ \u001b[22m\u001b[39m\u001b[33m\u001b[1mWarning: \u001b[22m\u001b[39mCould not compute valid contours\n",
      "\u001b[33m\u001b[1m└ \u001b[22m\u001b[39m\u001b[90m@ PairPlots ~/.julia/packages/PairPlots/QGv02/src/PairPlots.jl:1115\u001b[39m\n",
      "\u001b[33m\u001b[1m┌ \u001b[22m\u001b[39m\u001b[33m\u001b[1mWarning: \u001b[22m\u001b[39mCould not compute valid contours\n",
      "\u001b[33m\u001b[1m└ \u001b[22m\u001b[39m\u001b[90m@ PairPlots ~/.julia/packages/PairPlots/QGv02/src/PairPlots.jl:1115\u001b[39m\n",
      "\u001b[33m\u001b[1m┌ \u001b[22m\u001b[39m\u001b[33m\u001b[1mWarning: \u001b[22m\u001b[39mCould not compute valid contours\n",
      "\u001b[33m\u001b[1m└ \u001b[22m\u001b[39m\u001b[90m@ PairPlots ~/.julia/packages/PairPlots/QGv02/src/PairPlots.jl:1115\u001b[39m\n",
      "\u001b[33m\u001b[1m┌ \u001b[22m\u001b[39m\u001b[33m\u001b[1mWarning: \u001b[22m\u001b[39mCould not compute valid contours\n",
      "\u001b[33m\u001b[1m└ \u001b[22m\u001b[39m\u001b[90m@ PairPlots ~/.julia/packages/PairPlots/QGv02/src/PairPlots.jl:1115\u001b[39m\n",
      "\u001b[33m\u001b[1m┌ \u001b[22m\u001b[39m\u001b[33m\u001b[1mWarning: \u001b[22m\u001b[39mCould not compute valid contours\n",
      "\u001b[33m\u001b[1m└ \u001b[22m\u001b[39m\u001b[90m@ PairPlots ~/.julia/packages/PairPlots/QGv02/src/PairPlots.jl:1115\u001b[39m\n",
      "\u001b[33m\u001b[1m┌ \u001b[22m\u001b[39m\u001b[33m\u001b[1mWarning: \u001b[22m\u001b[39mCould not compute valid contours\n",
      "\u001b[33m\u001b[1m└ \u001b[22m\u001b[39m\u001b[90m@ PairPlots ~/.julia/packages/PairPlots/QGv02/src/PairPlots.jl:1115\u001b[39m\n",
      "\u001b[33m\u001b[1m┌ \u001b[22m\u001b[39m\u001b[33m\u001b[1mWarning: \u001b[22m\u001b[39mCould not compute valid contours\n",
      "\u001b[33m\u001b[1m└ \u001b[22m\u001b[39m\u001b[90m@ PairPlots ~/.julia/packages/PairPlots/QGv02/src/PairPlots.jl:1115\u001b[39m\n",
      "\u001b[33m\u001b[1m┌ \u001b[22m\u001b[39m\u001b[33m\u001b[1mWarning: \u001b[22m\u001b[39mCould not compute valid contours\n",
      "\u001b[33m\u001b[1m└ \u001b[22m\u001b[39m\u001b[90m@ PairPlots ~/.julia/packages/PairPlots/QGv02/src/PairPlots.jl:1115\u001b[39m\n",
      "\u001b[33m\u001b[1m┌ \u001b[22m\u001b[39m\u001b[33m\u001b[1mWarning: \u001b[22m\u001b[39mCould not compute valid contours\n",
      "\u001b[33m\u001b[1m└ \u001b[22m\u001b[39m\u001b[90m@ PairPlots ~/.julia/packages/PairPlots/QGv02/src/PairPlots.jl:1115\u001b[39m\n",
      "\u001b[33m\u001b[1m┌ \u001b[22m\u001b[39m\u001b[33m\u001b[1mWarning: \u001b[22m\u001b[39mCould not compute valid contours\n",
      "\u001b[33m\u001b[1m└ \u001b[22m\u001b[39m\u001b[90m@ PairPlots ~/.julia/packages/PairPlots/QGv02/src/PairPlots.jl:1115\u001b[39m\n",
      "\u001b[33m\u001b[1m┌ \u001b[22m\u001b[39m\u001b[33m\u001b[1mWarning: \u001b[22m\u001b[39mCould not compute valid contours\n",
      "\u001b[33m\u001b[1m└ \u001b[22m\u001b[39m\u001b[90m@ PairPlots ~/.julia/packages/PairPlots/QGv02/src/PairPlots.jl:1115\u001b[39m\n",
      "\u001b[33m\u001b[1m┌ \u001b[22m\u001b[39m\u001b[33m\u001b[1mWarning: \u001b[22m\u001b[39mCould not compute valid contours\n",
      "\u001b[33m\u001b[1m└ \u001b[22m\u001b[39m\u001b[90m@ PairPlots ~/.julia/packages/PairPlots/QGv02/src/PairPlots.jl:1115\u001b[39m\n",
      "\u001b[33m\u001b[1m┌ \u001b[22m\u001b[39m\u001b[33m\u001b[1mWarning: \u001b[22m\u001b[39mCould not compute valid contours\n",
      "\u001b[33m\u001b[1m└ \u001b[22m\u001b[39m\u001b[90m@ PairPlots ~/.julia/packages/PairPlots/QGv02/src/PairPlots.jl:1115\u001b[39m\n",
      "\u001b[33m\u001b[1m┌ \u001b[22m\u001b[39m\u001b[33m\u001b[1mWarning: \u001b[22m\u001b[39mCould not compute valid contours\n",
      "\u001b[33m\u001b[1m└ \u001b[22m\u001b[39m\u001b[90m@ PairPlots ~/.julia/packages/PairPlots/QGv02/src/PairPlots.jl:1115\u001b[39m\n",
      "\u001b[33m\u001b[1m┌ \u001b[22m\u001b[39m\u001b[33m\u001b[1mWarning: \u001b[22m\u001b[39mCould not compute valid contours\n",
      "\u001b[33m\u001b[1m└ \u001b[22m\u001b[39m\u001b[90m@ PairPlots ~/.julia/packages/PairPlots/QGv02/src/PairPlots.jl:1115\u001b[39m\n",
      "\u001b[33m\u001b[1m┌ \u001b[22m\u001b[39m\u001b[33m\u001b[1mWarning: \u001b[22m\u001b[39mCould not compute valid contours\n",
      "\u001b[33m\u001b[1m└ \u001b[22m\u001b[39m\u001b[90m@ PairPlots ~/.julia/packages/PairPlots/QGv02/src/PairPlots.jl:1115\u001b[39m\n",
      "\u001b[33m\u001b[1m┌ \u001b[22m\u001b[39m\u001b[33m\u001b[1mWarning: \u001b[22m\u001b[39mCould not compute valid contours\n",
      "\u001b[33m\u001b[1m└ \u001b[22m\u001b[39m\u001b[90m@ PairPlots ~/.julia/packages/PairPlots/QGv02/src/PairPlots.jl:1115\u001b[39m\n",
      "\u001b[33m\u001b[1m┌ \u001b[22m\u001b[39m\u001b[33m\u001b[1mWarning: \u001b[22m\u001b[39mCould not compute valid contours\n",
      "\u001b[33m\u001b[1m└ \u001b[22m\u001b[39m\u001b[90m@ PairPlots ~/.julia/packages/PairPlots/QGv02/src/PairPlots.jl:1115\u001b[39m\n",
      "\u001b[33m\u001b[1m┌ \u001b[22m\u001b[39m\u001b[33m\u001b[1mWarning: \u001b[22m\u001b[39mCould not compute valid contours\n",
      "\u001b[33m\u001b[1m└ \u001b[22m\u001b[39m\u001b[90m@ PairPlots ~/.julia/packages/PairPlots/QGv02/src/PairPlots.jl:1115\u001b[39m\n",
      "\u001b[33m\u001b[1m┌ \u001b[22m\u001b[39m\u001b[33m\u001b[1mWarning: \u001b[22m\u001b[39mCould not compute valid contours\n",
      "\u001b[33m\u001b[1m└ \u001b[22m\u001b[39m\u001b[90m@ PairPlots ~/.julia/packages/PairPlots/QGv02/src/PairPlots.jl:1115\u001b[39m\n",
      "\u001b[33m\u001b[1m┌ \u001b[22m\u001b[39m\u001b[33m\u001b[1mWarning: \u001b[22m\u001b[39mCould not compute valid contours\n",
      "\u001b[33m\u001b[1m└ \u001b[22m\u001b[39m\u001b[90m@ PairPlots ~/.julia/packages/PairPlots/QGv02/src/PairPlots.jl:1115\u001b[39m\n",
      "\u001b[33m\u001b[1m┌ \u001b[22m\u001b[39m\u001b[33m\u001b[1mWarning: \u001b[22m\u001b[39mCould not compute valid contours\n",
      "\u001b[33m\u001b[1m└ \u001b[22m\u001b[39m\u001b[90m@ PairPlots ~/.julia/packages/PairPlots/QGv02/src/PairPlots.jl:1115\u001b[39m\n",
      "\u001b[33m\u001b[1m┌ \u001b[22m\u001b[39m\u001b[33m\u001b[1mWarning: \u001b[22m\u001b[39mCould not compute valid contours\n",
      "\u001b[33m\u001b[1m└ \u001b[22m\u001b[39m\u001b[90m@ PairPlots ~/.julia/packages/PairPlots/QGv02/src/PairPlots.jl:1115\u001b[39m\n",
      "\u001b[33m\u001b[1m┌ \u001b[22m\u001b[39m\u001b[33m\u001b[1mWarning: \u001b[22m\u001b[39mCould not compute valid contours\n",
      "\u001b[33m\u001b[1m└ \u001b[22m\u001b[39m\u001b[90m@ PairPlots ~/.julia/packages/PairPlots/QGv02/src/PairPlots.jl:1115\u001b[39m\n",
      "\u001b[33m\u001b[1m┌ \u001b[22m\u001b[39m\u001b[33m\u001b[1mWarning: \u001b[22m\u001b[39mCould not compute valid contours\n",
      "\u001b[33m\u001b[1m└ \u001b[22m\u001b[39m\u001b[90m@ PairPlots ~/.julia/packages/PairPlots/QGv02/src/PairPlots.jl:1115\u001b[39m\n",
      "\u001b[33m\u001b[1m┌ \u001b[22m\u001b[39m\u001b[33m\u001b[1mWarning: \u001b[22m\u001b[39mCould not compute valid contours\n",
      "\u001b[33m\u001b[1m└ \u001b[22m\u001b[39m\u001b[90m@ PairPlots ~/.julia/packages/PairPlots/QGv02/src/PairPlots.jl:1115\u001b[39m\n",
      "\u001b[33m\u001b[1m┌ \u001b[22m\u001b[39m\u001b[33m\u001b[1mWarning: \u001b[22m\u001b[39mCould not compute valid contours\n",
      "\u001b[33m\u001b[1m└ \u001b[22m\u001b[39m\u001b[90m@ PairPlots ~/.julia/packages/PairPlots/QGv02/src/PairPlots.jl:1115\u001b[39m\n",
      "\u001b[33m\u001b[1m┌ \u001b[22m\u001b[39m\u001b[33m\u001b[1mWarning: \u001b[22m\u001b[39mCould not compute valid contours\n",
      "\u001b[33m\u001b[1m└ \u001b[22m\u001b[39m\u001b[90m@ PairPlots ~/.julia/packages/PairPlots/QGv02/src/PairPlots.jl:1115\u001b[39m\n",
      "\u001b[33m\u001b[1m┌ \u001b[22m\u001b[39m\u001b[33m\u001b[1mWarning: \u001b[22m\u001b[39mCould not compute valid contours\n",
      "\u001b[33m\u001b[1m└ \u001b[22m\u001b[39m\u001b[90m@ PairPlots ~/.julia/packages/PairPlots/QGv02/src/PairPlots.jl:1115\u001b[39m\n",
      "\u001b[33m\u001b[1m┌ \u001b[22m\u001b[39m\u001b[33m\u001b[1mWarning: \u001b[22m\u001b[39mCould not compute valid contours\n",
      "\u001b[33m\u001b[1m└ \u001b[22m\u001b[39m\u001b[90m@ PairPlots ~/.julia/packages/PairPlots/QGv02/src/PairPlots.jl:1115\u001b[39m\n",
      "\u001b[33m\u001b[1m┌ \u001b[22m\u001b[39m\u001b[33m\u001b[1mWarning: \u001b[22m\u001b[39mCould not compute valid contours\n",
      "\u001b[33m\u001b[1m└ \u001b[22m\u001b[39m\u001b[90m@ PairPlots ~/.julia/packages/PairPlots/QGv02/src/PairPlots.jl:1115\u001b[39m\n",
      "\u001b[33m\u001b[1m┌ \u001b[22m\u001b[39m\u001b[33m\u001b[1mWarning: \u001b[22m\u001b[39mCould not compute valid contours\n",
      "\u001b[33m\u001b[1m└ \u001b[22m\u001b[39m\u001b[90m@ PairPlots ~/.julia/packages/PairPlots/QGv02/src/PairPlots.jl:1115\u001b[39m\n",
      "\u001b[33m\u001b[1m┌ \u001b[22m\u001b[39m\u001b[33m\u001b[1mWarning: \u001b[22m\u001b[39mCould not compute valid contours\n",
      "\u001b[33m\u001b[1m└ \u001b[22m\u001b[39m\u001b[90m@ PairPlots ~/.julia/packages/PairPlots/QGv02/src/PairPlots.jl:1115\u001b[39m\n",
      "\u001b[33m\u001b[1m┌ \u001b[22m\u001b[39m\u001b[33m\u001b[1mWarning: \u001b[22m\u001b[39mCould not compute valid contours\n",
      "\u001b[33m\u001b[1m└ \u001b[22m\u001b[39m\u001b[90m@ PairPlots ~/.julia/packages/PairPlots/QGv02/src/PairPlots.jl:1115\u001b[39m\n",
      "\u001b[33m\u001b[1m┌ \u001b[22m\u001b[39m\u001b[33m\u001b[1mWarning: \u001b[22m\u001b[39mCould not compute valid contours\n",
      "\u001b[33m\u001b[1m└ \u001b[22m\u001b[39m\u001b[90m@ PairPlots ~/.julia/packages/PairPlots/QGv02/src/PairPlots.jl:1115\u001b[39m\n",
      "\u001b[33m\u001b[1m┌ \u001b[22m\u001b[39m\u001b[33m\u001b[1mWarning: \u001b[22m\u001b[39mCould not compute valid contours\n",
      "\u001b[33m\u001b[1m└ \u001b[22m\u001b[39m\u001b[90m@ PairPlots ~/.julia/packages/PairPlots/QGv02/src/PairPlots.jl:1115\u001b[39m\n",
      "\u001b[33m\u001b[1m┌ \u001b[22m\u001b[39m\u001b[33m\u001b[1mWarning: \u001b[22m\u001b[39mCould not compute valid contours\n",
      "\u001b[33m\u001b[1m└ \u001b[22m\u001b[39m\u001b[90m@ PairPlots ~/.julia/packages/PairPlots/QGv02/src/PairPlots.jl:1115\u001b[39m\n",
      "\u001b[33m\u001b[1m┌ \u001b[22m\u001b[39m\u001b[33m\u001b[1mWarning: \u001b[22m\u001b[39mCould not compute valid contours\n",
      "\u001b[33m\u001b[1m└ \u001b[22m\u001b[39m\u001b[90m@ PairPlots ~/.julia/packages/PairPlots/QGv02/src/PairPlots.jl:1115\u001b[39m\n",
      "\u001b[33m\u001b[1m┌ \u001b[22m\u001b[39m\u001b[33m\u001b[1mWarning: \u001b[22m\u001b[39mCould not compute valid contours\n",
      "\u001b[33m\u001b[1m└ \u001b[22m\u001b[39m\u001b[90m@ PairPlots ~/.julia/packages/PairPlots/QGv02/src/PairPlots.jl:1115\u001b[39m\n",
      "\u001b[33m\u001b[1m┌ \u001b[22m\u001b[39m\u001b[33m\u001b[1mWarning: \u001b[22m\u001b[39mCould not compute valid contours\n",
      "\u001b[33m\u001b[1m└ \u001b[22m\u001b[39m\u001b[90m@ PairPlots ~/.julia/packages/PairPlots/QGv02/src/PairPlots.jl:1115\u001b[39m\n",
      "\u001b[33m\u001b[1m┌ \u001b[22m\u001b[39m\u001b[33m\u001b[1mWarning: \u001b[22m\u001b[39mCould not compute valid contours\n",
      "\u001b[33m\u001b[1m└ \u001b[22m\u001b[39m\u001b[90m@ PairPlots ~/.julia/packages/PairPlots/QGv02/src/PairPlots.jl:1115\u001b[39m\n",
      "\u001b[33m\u001b[1m┌ \u001b[22m\u001b[39m\u001b[33m\u001b[1mWarning: \u001b[22m\u001b[39mCould not compute valid contours\n",
      "\u001b[33m\u001b[1m└ \u001b[22m\u001b[39m\u001b[90m@ PairPlots ~/.julia/packages/PairPlots/QGv02/src/PairPlots.jl:1115\u001b[39m\n",
      "\u001b[33m\u001b[1m┌ \u001b[22m\u001b[39m\u001b[33m\u001b[1mWarning: \u001b[22m\u001b[39mCould not compute valid contours\n",
      "\u001b[33m\u001b[1m└ \u001b[22m\u001b[39m\u001b[90m@ PairPlots ~/.julia/packages/PairPlots/QGv02/src/PairPlots.jl:1115\u001b[39m\n",
      "\u001b[33m\u001b[1m┌ \u001b[22m\u001b[39m\u001b[33m\u001b[1mWarning: \u001b[22m\u001b[39mCould not compute valid contours\n",
      "\u001b[33m\u001b[1m└ \u001b[22m\u001b[39m\u001b[90m@ PairPlots ~/.julia/packages/PairPlots/QGv02/src/PairPlots.jl:1115\u001b[39m\n",
      "\u001b[33m\u001b[1m┌ \u001b[22m\u001b[39m\u001b[33m\u001b[1mWarning: \u001b[22m\u001b[39mCould not compute valid contours\n",
      "\u001b[33m\u001b[1m└ \u001b[22m\u001b[39m\u001b[90m@ PairPlots ~/.julia/packages/PairPlots/QGv02/src/PairPlots.jl:1115\u001b[39m\n",
      "\u001b[33m\u001b[1m┌ \u001b[22m\u001b[39m\u001b[33m\u001b[1mWarning: \u001b[22m\u001b[39mCould not compute valid contours\n",
      "\u001b[33m\u001b[1m└ \u001b[22m\u001b[39m\u001b[90m@ PairPlots ~/.julia/packages/PairPlots/QGv02/src/PairPlots.jl:1115\u001b[39m\n",
      "\u001b[33m\u001b[1m┌ \u001b[22m\u001b[39m\u001b[33m\u001b[1mWarning: \u001b[22m\u001b[39mCould not compute valid contours\n",
      "\u001b[33m\u001b[1m└ \u001b[22m\u001b[39m\u001b[90m@ PairPlots ~/.julia/packages/PairPlots/QGv02/src/PairPlots.jl:1115\u001b[39m\n",
      "\u001b[33m\u001b[1m┌ \u001b[22m\u001b[39m\u001b[33m\u001b[1mWarning: \u001b[22m\u001b[39mCould not compute valid contours\n",
      "\u001b[33m\u001b[1m└ \u001b[22m\u001b[39m\u001b[90m@ PairPlots ~/.julia/packages/PairPlots/QGv02/src/PairPlots.jl:1115\u001b[39m\n",
      "\u001b[33m\u001b[1m┌ \u001b[22m\u001b[39m\u001b[33m\u001b[1mWarning: \u001b[22m\u001b[39mCould not compute valid contours\n",
      "\u001b[33m\u001b[1m└ \u001b[22m\u001b[39m\u001b[90m@ PairPlots ~/.julia/packages/PairPlots/QGv02/src/PairPlots.jl:1115\u001b[39m\n",
      "\u001b[33m\u001b[1m┌ \u001b[22m\u001b[39m\u001b[33m\u001b[1mWarning: \u001b[22m\u001b[39mCould not compute valid contours\n",
      "\u001b[33m\u001b[1m└ \u001b[22m\u001b[39m\u001b[90m@ PairPlots ~/.julia/packages/PairPlots/QGv02/src/PairPlots.jl:1115\u001b[39m\n",
      "\u001b[33m\u001b[1m┌ \u001b[22m\u001b[39m\u001b[33m\u001b[1mWarning: \u001b[22m\u001b[39mCould not compute valid contours\n",
      "\u001b[33m\u001b[1m└ \u001b[22m\u001b[39m\u001b[90m@ PairPlots ~/.julia/packages/PairPlots/QGv02/src/PairPlots.jl:1115\u001b[39m\n",
      "\u001b[33m\u001b[1m┌ \u001b[22m\u001b[39m\u001b[33m\u001b[1mWarning: \u001b[22m\u001b[39mCould not compute valid contours\n",
      "\u001b[33m\u001b[1m└ \u001b[22m\u001b[39m\u001b[90m@ PairPlots ~/.julia/packages/PairPlots/QGv02/src/PairPlots.jl:1115\u001b[39m\n",
      "\u001b[33m\u001b[1m┌ \u001b[22m\u001b[39m\u001b[33m\u001b[1mWarning: \u001b[22m\u001b[39mCould not compute valid contours\n",
      "\u001b[33m\u001b[1m└ \u001b[22m\u001b[39m\u001b[90m@ PairPlots ~/.julia/packages/PairPlots/QGv02/src/PairPlots.jl:1115\u001b[39m\n",
      "\u001b[33m\u001b[1m┌ \u001b[22m\u001b[39m\u001b[33m\u001b[1mWarning: \u001b[22m\u001b[39mCould not compute valid contours\n",
      "\u001b[33m\u001b[1m└ \u001b[22m\u001b[39m\u001b[90m@ PairPlots ~/.julia/packages/PairPlots/QGv02/src/PairPlots.jl:1115\u001b[39m\n",
      "\u001b[33m\u001b[1m┌ \u001b[22m\u001b[39m\u001b[33m\u001b[1mWarning: \u001b[22m\u001b[39mCould not compute valid contours\n",
      "\u001b[33m\u001b[1m└ \u001b[22m\u001b[39m\u001b[90m@ PairPlots ~/.julia/packages/PairPlots/QGv02/src/PairPlots.jl:1115\u001b[39m\n",
      "\u001b[33m\u001b[1m┌ \u001b[22m\u001b[39m\u001b[33m\u001b[1mWarning: \u001b[22m\u001b[39mCould not compute valid contours\n",
      "\u001b[33m\u001b[1m└ \u001b[22m\u001b[39m\u001b[90m@ PairPlots ~/.julia/packages/PairPlots/QGv02/src/PairPlots.jl:1115\u001b[39m\n",
      "\u001b[33m\u001b[1m┌ \u001b[22m\u001b[39m\u001b[33m\u001b[1mWarning: \u001b[22m\u001b[39mCould not compute valid contours\n",
      "\u001b[33m\u001b[1m└ \u001b[22m\u001b[39m\u001b[90m@ PairPlots ~/.julia/packages/PairPlots/QGv02/src/PairPlots.jl:1115\u001b[39m\n",
      "\u001b[33m\u001b[1m┌ \u001b[22m\u001b[39m\u001b[33m\u001b[1mWarning: \u001b[22m\u001b[39mCould not compute valid contours\n",
      "\u001b[33m\u001b[1m└ \u001b[22m\u001b[39m\u001b[90m@ PairPlots ~/.julia/packages/PairPlots/QGv02/src/PairPlots.jl:1115\u001b[39m\n",
      "\u001b[33m\u001b[1m┌ \u001b[22m\u001b[39m\u001b[33m\u001b[1mWarning: \u001b[22m\u001b[39mCould not compute valid contours\n",
      "\u001b[33m\u001b[1m└ \u001b[22m\u001b[39m\u001b[90m@ PairPlots ~/.julia/packages/PairPlots/QGv02/src/PairPlots.jl:1115\u001b[39m\n",
      "\u001b[33m\u001b[1m┌ \u001b[22m\u001b[39m\u001b[33m\u001b[1mWarning: \u001b[22m\u001b[39mCould not compute valid contours\n",
      "\u001b[33m\u001b[1m└ \u001b[22m\u001b[39m\u001b[90m@ PairPlots ~/.julia/packages/PairPlots/QGv02/src/PairPlots.jl:1115\u001b[39m\n",
      "\u001b[33m\u001b[1m┌ \u001b[22m\u001b[39m\u001b[33m\u001b[1mWarning: \u001b[22m\u001b[39mCould not compute valid contours\n",
      "\u001b[33m\u001b[1m└ \u001b[22m\u001b[39m\u001b[90m@ PairPlots ~/.julia/packages/PairPlots/QGv02/src/PairPlots.jl:1115\u001b[39m\n",
      "\u001b[33m\u001b[1m┌ \u001b[22m\u001b[39m\u001b[33m\u001b[1mWarning: \u001b[22m\u001b[39mCould not compute valid contours\n",
      "\u001b[33m\u001b[1m└ \u001b[22m\u001b[39m\u001b[90m@ PairPlots ~/.julia/packages/PairPlots/QGv02/src/PairPlots.jl:1115\u001b[39m\n",
      "\u001b[33m\u001b[1m┌ \u001b[22m\u001b[39m\u001b[33m\u001b[1mWarning: \u001b[22m\u001b[39mCould not compute valid contours\n",
      "\u001b[33m\u001b[1m└ \u001b[22m\u001b[39m\u001b[90m@ PairPlots ~/.julia/packages/PairPlots/QGv02/src/PairPlots.jl:1115\u001b[39m\n",
      "\u001b[33m\u001b[1m┌ \u001b[22m\u001b[39m\u001b[33m\u001b[1mWarning: \u001b[22m\u001b[39mCould not compute valid contours\n",
      "\u001b[33m\u001b[1m└ \u001b[22m\u001b[39m\u001b[90m@ PairPlots ~/.julia/packages/PairPlots/QGv02/src/PairPlots.jl:1115\u001b[39m\n",
      "\u001b[33m\u001b[1m┌ \u001b[22m\u001b[39m\u001b[33m\u001b[1mWarning: \u001b[22m\u001b[39mCould not compute valid contours\n",
      "\u001b[33m\u001b[1m└ \u001b[22m\u001b[39m\u001b[90m@ PairPlots ~/.julia/packages/PairPlots/QGv02/src/PairPlots.jl:1115\u001b[39m\n",
      "\u001b[33m\u001b[1m┌ \u001b[22m\u001b[39m\u001b[33m\u001b[1mWarning: \u001b[22m\u001b[39mCould not compute valid contours\n",
      "\u001b[33m\u001b[1m└ \u001b[22m\u001b[39m\u001b[90m@ PairPlots ~/.julia/packages/PairPlots/QGv02/src/PairPlots.jl:1115\u001b[39m\n",
      "\u001b[33m\u001b[1m┌ \u001b[22m\u001b[39m\u001b[33m\u001b[1mWarning: \u001b[22m\u001b[39mCould not compute valid contours\n",
      "\u001b[33m\u001b[1m└ \u001b[22m\u001b[39m\u001b[90m@ PairPlots ~/.julia/packages/PairPlots/QGv02/src/PairPlots.jl:1115\u001b[39m\n",
      "\u001b[33m\u001b[1m┌ \u001b[22m\u001b[39m\u001b[33m\u001b[1mWarning: \u001b[22m\u001b[39mCould not compute valid contours\n",
      "\u001b[33m\u001b[1m└ \u001b[22m\u001b[39m\u001b[90m@ PairPlots ~/.julia/packages/PairPlots/QGv02/src/PairPlots.jl:1115\u001b[39m\n",
      "\u001b[33m\u001b[1m┌ \u001b[22m\u001b[39m\u001b[33m\u001b[1mWarning: \u001b[22m\u001b[39mCould not compute valid contours\n",
      "\u001b[33m\u001b[1m└ \u001b[22m\u001b[39m\u001b[90m@ PairPlots ~/.julia/packages/PairPlots/QGv02/src/PairPlots.jl:1115\u001b[39m\n",
      "\u001b[33m\u001b[1m┌ \u001b[22m\u001b[39m\u001b[33m\u001b[1mWarning: \u001b[22m\u001b[39mCould not compute valid contours\n",
      "\u001b[33m\u001b[1m└ \u001b[22m\u001b[39m\u001b[90m@ PairPlots ~/.julia/packages/PairPlots/QGv02/src/PairPlots.jl:1115\u001b[39m\n",
      "\u001b[33m\u001b[1m┌ \u001b[22m\u001b[39m\u001b[33m\u001b[1mWarning: \u001b[22m\u001b[39mCould not compute valid contours\n",
      "\u001b[33m\u001b[1m└ \u001b[22m\u001b[39m\u001b[90m@ PairPlots ~/.julia/packages/PairPlots/QGv02/src/PairPlots.jl:1115\u001b[39m\n",
      "\u001b[33m\u001b[1m┌ \u001b[22m\u001b[39m\u001b[33m\u001b[1mWarning: \u001b[22m\u001b[39mCould not compute valid contours\n",
      "\u001b[33m\u001b[1m└ \u001b[22m\u001b[39m\u001b[90m@ PairPlots ~/.julia/packages/PairPlots/QGv02/src/PairPlots.jl:1115\u001b[39m\n",
      "\u001b[33m\u001b[1m┌ \u001b[22m\u001b[39m\u001b[33m\u001b[1mWarning: \u001b[22m\u001b[39mCould not compute valid contours\n",
      "\u001b[33m\u001b[1m└ \u001b[22m\u001b[39m\u001b[90m@ PairPlots ~/.julia/packages/PairPlots/QGv02/src/PairPlots.jl:1115\u001b[39m\n",
      "\u001b[33m\u001b[1m┌ \u001b[22m\u001b[39m\u001b[33m\u001b[1mWarning: \u001b[22m\u001b[39mCould not compute valid contours\n",
      "\u001b[33m\u001b[1m└ \u001b[22m\u001b[39m\u001b[90m@ PairPlots ~/.julia/packages/PairPlots/QGv02/src/PairPlots.jl:1115\u001b[39m\n",
      "\u001b[33m\u001b[1m┌ \u001b[22m\u001b[39m\u001b[33m\u001b[1mWarning: \u001b[22m\u001b[39mCould not compute valid contours\n",
      "\u001b[33m\u001b[1m└ \u001b[22m\u001b[39m\u001b[90m@ PairPlots ~/.julia/packages/PairPlots/QGv02/src/PairPlots.jl:1115\u001b[39m\n",
      "\u001b[33m\u001b[1m┌ \u001b[22m\u001b[39m\u001b[33m\u001b[1mWarning: \u001b[22m\u001b[39mCould not compute valid contours\n",
      "\u001b[33m\u001b[1m└ \u001b[22m\u001b[39m\u001b[90m@ PairPlots ~/.julia/packages/PairPlots/QGv02/src/PairPlots.jl:1115\u001b[39m\n",
      "\u001b[33m\u001b[1m┌ \u001b[22m\u001b[39m\u001b[33m\u001b[1mWarning: \u001b[22m\u001b[39mCould not compute valid contours\n",
      "\u001b[33m\u001b[1m└ \u001b[22m\u001b[39m\u001b[90m@ PairPlots ~/.julia/packages/PairPlots/QGv02/src/PairPlots.jl:1115\u001b[39m\n",
      "\u001b[33m\u001b[1m┌ \u001b[22m\u001b[39m\u001b[33m\u001b[1mWarning: \u001b[22m\u001b[39mCould not compute valid contours\n",
      "\u001b[33m\u001b[1m└ \u001b[22m\u001b[39m\u001b[90m@ PairPlots ~/.julia/packages/PairPlots/QGv02/src/PairPlots.jl:1115\u001b[39m\n",
      "\u001b[33m\u001b[1m┌ \u001b[22m\u001b[39m\u001b[33m\u001b[1mWarning: \u001b[22m\u001b[39mCould not compute valid contours\n",
      "\u001b[33m\u001b[1m└ \u001b[22m\u001b[39m\u001b[90m@ PairPlots ~/.julia/packages/PairPlots/QGv02/src/PairPlots.jl:1115\u001b[39m\n",
      "\u001b[33m\u001b[1m┌ \u001b[22m\u001b[39m\u001b[33m\u001b[1mWarning: \u001b[22m\u001b[39mCould not compute valid contours\n",
      "\u001b[33m\u001b[1m└ \u001b[22m\u001b[39m\u001b[90m@ PairPlots ~/.julia/packages/PairPlots/QGv02/src/PairPlots.jl:1115\u001b[39m\n",
      "\u001b[33m\u001b[1m┌ \u001b[22m\u001b[39m\u001b[33m\u001b[1mWarning: \u001b[22m\u001b[39mCould not compute valid contours\n",
      "\u001b[33m\u001b[1m└ \u001b[22m\u001b[39m\u001b[90m@ PairPlots ~/.julia/packages/PairPlots/QGv02/src/PairPlots.jl:1115\u001b[39m\n",
      "\u001b[33m\u001b[1m┌ \u001b[22m\u001b[39m\u001b[33m\u001b[1mWarning: \u001b[22m\u001b[39mCould not compute valid contours\n",
      "\u001b[33m\u001b[1m└ \u001b[22m\u001b[39m\u001b[90m@ PairPlots ~/.julia/packages/PairPlots/QGv02/src/PairPlots.jl:1115\u001b[39m\n",
      "\u001b[33m\u001b[1m┌ \u001b[22m\u001b[39m\u001b[33m\u001b[1mWarning: \u001b[22m\u001b[39mCould not compute valid contours\n",
      "\u001b[33m\u001b[1m└ \u001b[22m\u001b[39m\u001b[90m@ PairPlots ~/.julia/packages/PairPlots/QGv02/src/PairPlots.jl:1115\u001b[39m\n",
      "\u001b[33m\u001b[1m┌ \u001b[22m\u001b[39m\u001b[33m\u001b[1mWarning: \u001b[22m\u001b[39mCould not compute valid contours\n",
      "\u001b[33m\u001b[1m└ \u001b[22m\u001b[39m\u001b[90m@ PairPlots ~/.julia/packages/PairPlots/QGv02/src/PairPlots.jl:1115\u001b[39m\n",
      "\u001b[33m\u001b[1m┌ \u001b[22m\u001b[39m\u001b[33m\u001b[1mWarning: \u001b[22m\u001b[39mCould not compute valid contours\n",
      "\u001b[33m\u001b[1m└ \u001b[22m\u001b[39m\u001b[90m@ PairPlots ~/.julia/packages/PairPlots/QGv02/src/PairPlots.jl:1115\u001b[39m\n",
      "\u001b[33m\u001b[1m┌ \u001b[22m\u001b[39m\u001b[33m\u001b[1mWarning: \u001b[22m\u001b[39mCould not compute valid contours\n",
      "\u001b[33m\u001b[1m└ \u001b[22m\u001b[39m\u001b[90m@ PairPlots ~/.julia/packages/PairPlots/QGv02/src/PairPlots.jl:1115\u001b[39m\n",
      "\u001b[33m\u001b[1m┌ \u001b[22m\u001b[39m\u001b[33m\u001b[1mWarning: \u001b[22m\u001b[39mCould not compute valid contours\n",
      "\u001b[33m\u001b[1m└ \u001b[22m\u001b[39m\u001b[90m@ PairPlots ~/.julia/packages/PairPlots/QGv02/src/PairPlots.jl:1115\u001b[39m\n",
      "\u001b[33m\u001b[1m┌ \u001b[22m\u001b[39m\u001b[33m\u001b[1mWarning: \u001b[22m\u001b[39mCould not compute valid contours\n",
      "\u001b[33m\u001b[1m└ \u001b[22m\u001b[39m\u001b[90m@ PairPlots ~/.julia/packages/PairPlots/QGv02/src/PairPlots.jl:1115\u001b[39m\n",
      "\u001b[33m\u001b[1m┌ \u001b[22m\u001b[39m\u001b[33m\u001b[1mWarning: \u001b[22m\u001b[39mCould not compute valid contours\n",
      "\u001b[33m\u001b[1m└ \u001b[22m\u001b[39m\u001b[90m@ PairPlots ~/.julia/packages/PairPlots/QGv02/src/PairPlots.jl:1115\u001b[39m\n",
      "\u001b[33m\u001b[1m┌ \u001b[22m\u001b[39m\u001b[33m\u001b[1mWarning: \u001b[22m\u001b[39mCould not compute valid contours\n",
      "\u001b[33m\u001b[1m└ \u001b[22m\u001b[39m\u001b[90m@ PairPlots ~/.julia/packages/PairPlots/QGv02/src/PairPlots.jl:1115\u001b[39m\n",
      "\u001b[33m\u001b[1m┌ \u001b[22m\u001b[39m\u001b[33m\u001b[1mWarning: \u001b[22m\u001b[39mCould not compute valid contours\n",
      "\u001b[33m\u001b[1m└ \u001b[22m\u001b[39m\u001b[90m@ PairPlots ~/.julia/packages/PairPlots/QGv02/src/PairPlots.jl:1115\u001b[39m\n",
      "\u001b[33m\u001b[1m┌ \u001b[22m\u001b[39m\u001b[33m\u001b[1mWarning: \u001b[22m\u001b[39mCould not compute valid contours\n",
      "\u001b[33m\u001b[1m└ \u001b[22m\u001b[39m\u001b[90m@ PairPlots ~/.julia/packages/PairPlots/QGv02/src/PairPlots.jl:1115\u001b[39m\n",
      "\u001b[33m\u001b[1m┌ \u001b[22m\u001b[39m\u001b[33m\u001b[1mWarning: \u001b[22m\u001b[39mCould not compute valid contours\n",
      "\u001b[33m\u001b[1m└ \u001b[22m\u001b[39m\u001b[90m@ PairPlots ~/.julia/packages/PairPlots/QGv02/src/PairPlots.jl:1115\u001b[39m\n",
      "\u001b[33m\u001b[1m┌ \u001b[22m\u001b[39m\u001b[33m\u001b[1mWarning: \u001b[22m\u001b[39mCould not compute valid contours\n",
      "\u001b[33m\u001b[1m└ \u001b[22m\u001b[39m\u001b[90m@ PairPlots ~/.julia/packages/PairPlots/QGv02/src/PairPlots.jl:1115\u001b[39m\n",
      "\u001b[33m\u001b[1m┌ \u001b[22m\u001b[39m\u001b[33m\u001b[1mWarning: \u001b[22m\u001b[39mCould not compute valid contours\n",
      "\u001b[33m\u001b[1m└ \u001b[22m\u001b[39m\u001b[90m@ PairPlots ~/.julia/packages/PairPlots/QGv02/src/PairPlots.jl:1115\u001b[39m\n",
      "\u001b[33m\u001b[1m┌ \u001b[22m\u001b[39m\u001b[33m\u001b[1mWarning: \u001b[22m\u001b[39mCould not compute valid contours\n",
      "\u001b[33m\u001b[1m└ \u001b[22m\u001b[39m\u001b[90m@ PairPlots ~/.julia/packages/PairPlots/QGv02/src/PairPlots.jl:1115\u001b[39m\n",
      "\u001b[33m\u001b[1m┌ \u001b[22m\u001b[39m\u001b[33m\u001b[1mWarning: \u001b[22m\u001b[39mCould not compute valid contours\n",
      "\u001b[33m\u001b[1m└ \u001b[22m\u001b[39m\u001b[90m@ PairPlots ~/.julia/packages/PairPlots/QGv02/src/PairPlots.jl:1115\u001b[39m\n",
      "\u001b[33m\u001b[1m┌ \u001b[22m\u001b[39m\u001b[33m\u001b[1mWarning: \u001b[22m\u001b[39mCould not compute valid contours\n",
      "\u001b[33m\u001b[1m└ \u001b[22m\u001b[39m\u001b[90m@ PairPlots ~/.julia/packages/PairPlots/QGv02/src/PairPlots.jl:1115\u001b[39m\n",
      "\u001b[33m\u001b[1m┌ \u001b[22m\u001b[39m\u001b[33m\u001b[1mWarning: \u001b[22m\u001b[39mCould not compute valid contours\n",
      "\u001b[33m\u001b[1m└ \u001b[22m\u001b[39m\u001b[90m@ PairPlots ~/.julia/packages/PairPlots/QGv02/src/PairPlots.jl:1115\u001b[39m\n",
      "\u001b[33m\u001b[1m┌ \u001b[22m\u001b[39m\u001b[33m\u001b[1mWarning: \u001b[22m\u001b[39mCould not compute valid contours\n",
      "\u001b[33m\u001b[1m└ \u001b[22m\u001b[39m\u001b[90m@ PairPlots ~/.julia/packages/PairPlots/QGv02/src/PairPlots.jl:1115\u001b[39m\n",
      "\u001b[33m\u001b[1m┌ \u001b[22m\u001b[39m\u001b[33m\u001b[1mWarning: \u001b[22m\u001b[39mCould not compute valid contours\n",
      "\u001b[33m\u001b[1m└ \u001b[22m\u001b[39m\u001b[90m@ PairPlots ~/.julia/packages/PairPlots/QGv02/src/PairPlots.jl:1115\u001b[39m\n",
      "\u001b[33m\u001b[1m┌ \u001b[22m\u001b[39m\u001b[33m\u001b[1mWarning: \u001b[22m\u001b[39mCould not compute valid contours\n",
      "\u001b[33m\u001b[1m└ \u001b[22m\u001b[39m\u001b[90m@ PairPlots ~/.julia/packages/PairPlots/QGv02/src/PairPlots.jl:1115\u001b[39m\n",
      "\u001b[33m\u001b[1m┌ \u001b[22m\u001b[39m\u001b[33m\u001b[1mWarning: \u001b[22m\u001b[39mCould not compute valid contours\n",
      "\u001b[33m\u001b[1m└ \u001b[22m\u001b[39m\u001b[90m@ PairPlots ~/.julia/packages/PairPlots/QGv02/src/PairPlots.jl:1115\u001b[39m\n",
      "\u001b[33m\u001b[1m┌ \u001b[22m\u001b[39m\u001b[33m\u001b[1mWarning: \u001b[22m\u001b[39mCould not compute valid contours\n",
      "\u001b[33m\u001b[1m└ \u001b[22m\u001b[39m\u001b[90m@ PairPlots ~/.julia/packages/PairPlots/QGv02/src/PairPlots.jl:1115\u001b[39m\n",
      "\u001b[33m\u001b[1m┌ \u001b[22m\u001b[39m\u001b[33m\u001b[1mWarning: \u001b[22m\u001b[39mCould not compute valid contours\n",
      "\u001b[33m\u001b[1m└ \u001b[22m\u001b[39m\u001b[90m@ PairPlots ~/.julia/packages/PairPlots/QGv02/src/PairPlots.jl:1115\u001b[39m\n",
      "\u001b[33m\u001b[1m┌ \u001b[22m\u001b[39m\u001b[33m\u001b[1mWarning: \u001b[22m\u001b[39mCould not compute valid contours\n",
      "\u001b[33m\u001b[1m└ \u001b[22m\u001b[39m\u001b[90m@ PairPlots ~/.julia/packages/PairPlots/QGv02/src/PairPlots.jl:1115\u001b[39m\n",
      "\u001b[33m\u001b[1m┌ \u001b[22m\u001b[39m\u001b[33m\u001b[1mWarning: \u001b[22m\u001b[39mCould not compute valid contours\n",
      "\u001b[33m\u001b[1m└ \u001b[22m\u001b[39m\u001b[90m@ PairPlots ~/.julia/packages/PairPlots/QGv02/src/PairPlots.jl:1115\u001b[39m\n",
      "\u001b[33m\u001b[1m┌ \u001b[22m\u001b[39m\u001b[33m\u001b[1mWarning: \u001b[22m\u001b[39mCould not compute valid contours\n",
      "\u001b[33m\u001b[1m└ \u001b[22m\u001b[39m\u001b[90m@ PairPlots ~/.julia/packages/PairPlots/QGv02/src/PairPlots.jl:1115\u001b[39m\n",
      "\u001b[33m\u001b[1m┌ \u001b[22m\u001b[39m\u001b[33m\u001b[1mWarning: \u001b[22m\u001b[39mCould not compute valid contours\n",
      "\u001b[33m\u001b[1m└ \u001b[22m\u001b[39m\u001b[90m@ PairPlots ~/.julia/packages/PairPlots/QGv02/src/PairPlots.jl:1115\u001b[39m\n",
      "\u001b[33m\u001b[1m┌ \u001b[22m\u001b[39m\u001b[33m\u001b[1mWarning: \u001b[22m\u001b[39mCould not compute valid contours\n",
      "\u001b[33m\u001b[1m└ \u001b[22m\u001b[39m\u001b[90m@ PairPlots ~/.julia/packages/PairPlots/QGv02/src/PairPlots.jl:1115\u001b[39m\n",
      "\u001b[33m\u001b[1m┌ \u001b[22m\u001b[39m\u001b[33m\u001b[1mWarning: \u001b[22m\u001b[39mCould not compute valid contours\n",
      "\u001b[33m\u001b[1m└ \u001b[22m\u001b[39m\u001b[90m@ PairPlots ~/.julia/packages/PairPlots/QGv02/src/PairPlots.jl:1115\u001b[39m\n",
      "\u001b[33m\u001b[1m┌ \u001b[22m\u001b[39m\u001b[33m\u001b[1mWarning: \u001b[22m\u001b[39mCould not compute valid contours\n",
      "\u001b[33m\u001b[1m└ \u001b[22m\u001b[39m\u001b[90m@ PairPlots ~/.julia/packages/PairPlots/QGv02/src/PairPlots.jl:1115\u001b[39m\n",
      "\u001b[33m\u001b[1m┌ \u001b[22m\u001b[39m\u001b[33m\u001b[1mWarning: \u001b[22m\u001b[39mCould not compute valid contours\n",
      "\u001b[33m\u001b[1m└ \u001b[22m\u001b[39m\u001b[90m@ PairPlots ~/.julia/packages/PairPlots/QGv02/src/PairPlots.jl:1115\u001b[39m\n",
      "\u001b[33m\u001b[1m┌ \u001b[22m\u001b[39m\u001b[33m\u001b[1mWarning: \u001b[22m\u001b[39mCould not compute valid contours\n",
      "\u001b[33m\u001b[1m└ \u001b[22m\u001b[39m\u001b[90m@ PairPlots ~/.julia/packages/PairPlots/QGv02/src/PairPlots.jl:1115\u001b[39m\n",
      "\u001b[33m\u001b[1m┌ \u001b[22m\u001b[39m\u001b[33m\u001b[1mWarning: \u001b[22m\u001b[39mCould not compute valid contours\n",
      "\u001b[33m\u001b[1m└ \u001b[22m\u001b[39m\u001b[90m@ PairPlots ~/.julia/packages/PairPlots/QGv02/src/PairPlots.jl:1115\u001b[39m\n",
      "\u001b[33m\u001b[1m┌ \u001b[22m\u001b[39m\u001b[33m\u001b[1mWarning: \u001b[22m\u001b[39mCould not compute valid contours\n",
      "\u001b[33m\u001b[1m└ \u001b[22m\u001b[39m\u001b[90m@ PairPlots ~/.julia/packages/PairPlots/QGv02/src/PairPlots.jl:1115\u001b[39m\n",
      "\u001b[33m\u001b[1m┌ \u001b[22m\u001b[39m\u001b[33m\u001b[1mWarning: \u001b[22m\u001b[39mCould not compute valid contours\n",
      "\u001b[33m\u001b[1m└ \u001b[22m\u001b[39m\u001b[90m@ PairPlots ~/.julia/packages/PairPlots/QGv02/src/PairPlots.jl:1115\u001b[39m\n",
      "\u001b[33m\u001b[1m┌ \u001b[22m\u001b[39m\u001b[33m\u001b[1mWarning: \u001b[22m\u001b[39mCould not compute valid contours\n",
      "\u001b[33m\u001b[1m└ \u001b[22m\u001b[39m\u001b[90m@ PairPlots ~/.julia/packages/PairPlots/QGv02/src/PairPlots.jl:1115\u001b[39m\n",
      "\u001b[33m\u001b[1m┌ \u001b[22m\u001b[39m\u001b[33m\u001b[1mWarning: \u001b[22m\u001b[39mCould not compute valid contours\n",
      "\u001b[33m\u001b[1m└ \u001b[22m\u001b[39m\u001b[90m@ PairPlots ~/.julia/packages/PairPlots/QGv02/src/PairPlots.jl:1115\u001b[39m\n",
      "\u001b[33m\u001b[1m┌ \u001b[22m\u001b[39m\u001b[33m\u001b[1mWarning: \u001b[22m\u001b[39mCould not compute valid contours\n",
      "\u001b[33m\u001b[1m└ \u001b[22m\u001b[39m\u001b[90m@ PairPlots ~/.julia/packages/PairPlots/QGv02/src/PairPlots.jl:1115\u001b[39m\n",
      "\u001b[33m\u001b[1m┌ \u001b[22m\u001b[39m\u001b[33m\u001b[1mWarning: \u001b[22m\u001b[39mCould not compute valid contours\n",
      "\u001b[33m\u001b[1m└ \u001b[22m\u001b[39m\u001b[90m@ PairPlots ~/.julia/packages/PairPlots/QGv02/src/PairPlots.jl:1115\u001b[39m\n",
      "\u001b[33m\u001b[1m┌ \u001b[22m\u001b[39m\u001b[33m\u001b[1mWarning: \u001b[22m\u001b[39mCould not compute valid contours\n",
      "\u001b[33m\u001b[1m└ \u001b[22m\u001b[39m\u001b[90m@ PairPlots ~/.julia/packages/PairPlots/QGv02/src/PairPlots.jl:1115\u001b[39m\n",
      "\u001b[33m\u001b[1m┌ \u001b[22m\u001b[39m\u001b[33m\u001b[1mWarning: \u001b[22m\u001b[39mCould not compute valid contours\n",
      "\u001b[33m\u001b[1m└ \u001b[22m\u001b[39m\u001b[90m@ PairPlots ~/.julia/packages/PairPlots/QGv02/src/PairPlots.jl:1115\u001b[39m\n",
      "\u001b[33m\u001b[1m┌ \u001b[22m\u001b[39m\u001b[33m\u001b[1mWarning: \u001b[22m\u001b[39mCould not compute valid contours\n",
      "\u001b[33m\u001b[1m└ \u001b[22m\u001b[39m\u001b[90m@ PairPlots ~/.julia/packages/PairPlots/QGv02/src/PairPlots.jl:1115\u001b[39m\n",
      "\u001b[33m\u001b[1m┌ \u001b[22m\u001b[39m\u001b[33m\u001b[1mWarning: \u001b[22m\u001b[39mCould not compute valid contours\n",
      "\u001b[33m\u001b[1m└ \u001b[22m\u001b[39m\u001b[90m@ PairPlots ~/.julia/packages/PairPlots/QGv02/src/PairPlots.jl:1115\u001b[39m\n",
      "\u001b[33m\u001b[1m┌ \u001b[22m\u001b[39m\u001b[33m\u001b[1mWarning: \u001b[22m\u001b[39mCould not compute valid contours\n",
      "\u001b[33m\u001b[1m└ \u001b[22m\u001b[39m\u001b[90m@ PairPlots ~/.julia/packages/PairPlots/QGv02/src/PairPlots.jl:1115\u001b[39m\n",
      "\u001b[33m\u001b[1m┌ \u001b[22m\u001b[39m\u001b[33m\u001b[1mWarning: \u001b[22m\u001b[39mCould not compute valid contours\n",
      "\u001b[33m\u001b[1m└ \u001b[22m\u001b[39m\u001b[90m@ PairPlots ~/.julia/packages/PairPlots/QGv02/src/PairPlots.jl:1115\u001b[39m\n",
      "\u001b[33m\u001b[1m┌ \u001b[22m\u001b[39m\u001b[33m\u001b[1mWarning: \u001b[22m\u001b[39mCould not compute valid contours\n",
      "\u001b[33m\u001b[1m└ \u001b[22m\u001b[39m\u001b[90m@ PairPlots ~/.julia/packages/PairPlots/QGv02/src/PairPlots.jl:1115\u001b[39m\n",
      "\u001b[33m\u001b[1m┌ \u001b[22m\u001b[39m\u001b[33m\u001b[1mWarning: \u001b[22m\u001b[39mCould not compute valid contours\n",
      "\u001b[33m\u001b[1m└ \u001b[22m\u001b[39m\u001b[90m@ PairPlots ~/.julia/packages/PairPlots/QGv02/src/PairPlots.jl:1115\u001b[39m\n",
      "\u001b[33m\u001b[1m┌ \u001b[22m\u001b[39m\u001b[33m\u001b[1mWarning: \u001b[22m\u001b[39mCould not compute valid contours\n",
      "\u001b[33m\u001b[1m└ \u001b[22m\u001b[39m\u001b[90m@ PairPlots ~/.julia/packages/PairPlots/QGv02/src/PairPlots.jl:1115\u001b[39m\n",
      "\u001b[33m\u001b[1m┌ \u001b[22m\u001b[39m\u001b[33m\u001b[1mWarning: \u001b[22m\u001b[39mCould not compute valid contours\n",
      "\u001b[33m\u001b[1m└ \u001b[22m\u001b[39m\u001b[90m@ PairPlots ~/.julia/packages/PairPlots/QGv02/src/PairPlots.jl:1115\u001b[39m\n",
      "\u001b[33m\u001b[1m┌ \u001b[22m\u001b[39m\u001b[33m\u001b[1mWarning: \u001b[22m\u001b[39mCould not compute valid contours\n",
      "\u001b[33m\u001b[1m└ \u001b[22m\u001b[39m\u001b[90m@ PairPlots ~/.julia/packages/PairPlots/QGv02/src/PairPlots.jl:1115\u001b[39m\n",
      "\u001b[33m\u001b[1m┌ \u001b[22m\u001b[39m\u001b[33m\u001b[1mWarning: \u001b[22m\u001b[39mCould not compute valid contours\n",
      "\u001b[33m\u001b[1m└ \u001b[22m\u001b[39m\u001b[90m@ PairPlots ~/.julia/packages/PairPlots/QGv02/src/PairPlots.jl:1115\u001b[39m\n",
      "\u001b[33m\u001b[1m┌ \u001b[22m\u001b[39m\u001b[33m\u001b[1mWarning: \u001b[22m\u001b[39mCould not compute valid contours\n",
      "\u001b[33m\u001b[1m└ \u001b[22m\u001b[39m\u001b[90m@ PairPlots ~/.julia/packages/PairPlots/QGv02/src/PairPlots.jl:1115\u001b[39m\n",
      "\u001b[33m\u001b[1m┌ \u001b[22m\u001b[39m\u001b[33m\u001b[1mWarning: \u001b[22m\u001b[39mCould not compute valid contours\n",
      "\u001b[33m\u001b[1m└ \u001b[22m\u001b[39m\u001b[90m@ PairPlots ~/.julia/packages/PairPlots/QGv02/src/PairPlots.jl:1115\u001b[39m\n",
      "\u001b[33m\u001b[1m┌ \u001b[22m\u001b[39m\u001b[33m\u001b[1mWarning: \u001b[22m\u001b[39mCould not compute valid contours\n",
      "\u001b[33m\u001b[1m└ \u001b[22m\u001b[39m\u001b[90m@ PairPlots ~/.julia/packages/PairPlots/QGv02/src/PairPlots.jl:1115\u001b[39m\n",
      "\u001b[33m\u001b[1m┌ \u001b[22m\u001b[39m\u001b[33m\u001b[1mWarning: \u001b[22m\u001b[39mCould not compute valid contours\n",
      "\u001b[33m\u001b[1m└ \u001b[22m\u001b[39m\u001b[90m@ PairPlots ~/.julia/packages/PairPlots/QGv02/src/PairPlots.jl:1115\u001b[39m\n",
      "\u001b[33m\u001b[1m┌ \u001b[22m\u001b[39m\u001b[33m\u001b[1mWarning: \u001b[22m\u001b[39mCould not compute valid contours\n",
      "\u001b[33m\u001b[1m└ \u001b[22m\u001b[39m\u001b[90m@ PairPlots ~/.julia/packages/PairPlots/QGv02/src/PairPlots.jl:1115\u001b[39m\n",
      "\u001b[33m\u001b[1m┌ \u001b[22m\u001b[39m\u001b[33m\u001b[1mWarning: \u001b[22m\u001b[39mCould not compute valid contours\n",
      "\u001b[33m\u001b[1m└ \u001b[22m\u001b[39m\u001b[90m@ PairPlots ~/.julia/packages/PairPlots/QGv02/src/PairPlots.jl:1115\u001b[39m\n",
      "\u001b[33m\u001b[1m┌ \u001b[22m\u001b[39m\u001b[33m\u001b[1mWarning: \u001b[22m\u001b[39mCould not compute valid contours\n",
      "\u001b[33m\u001b[1m└ \u001b[22m\u001b[39m\u001b[90m@ PairPlots ~/.julia/packages/PairPlots/QGv02/src/PairPlots.jl:1115\u001b[39m\n",
      "\u001b[33m\u001b[1m┌ \u001b[22m\u001b[39m\u001b[33m\u001b[1mWarning: \u001b[22m\u001b[39mCould not compute valid contours\n",
      "\u001b[33m\u001b[1m└ \u001b[22m\u001b[39m\u001b[90m@ PairPlots ~/.julia/packages/PairPlots/QGv02/src/PairPlots.jl:1115\u001b[39m\n",
      "\u001b[33m\u001b[1m┌ \u001b[22m\u001b[39m\u001b[33m\u001b[1mWarning: \u001b[22m\u001b[39mCould not compute valid contours\n",
      "\u001b[33m\u001b[1m└ \u001b[22m\u001b[39m\u001b[90m@ PairPlots ~/.julia/packages/PairPlots/QGv02/src/PairPlots.jl:1115\u001b[39m\n",
      "\u001b[33m\u001b[1m┌ \u001b[22m\u001b[39m\u001b[33m\u001b[1mWarning: \u001b[22m\u001b[39mCould not compute valid contours\n",
      "\u001b[33m\u001b[1m└ \u001b[22m\u001b[39m\u001b[90m@ PairPlots ~/.julia/packages/PairPlots/QGv02/src/PairPlots.jl:1115\u001b[39m\n",
      "\u001b[33m\u001b[1m┌ \u001b[22m\u001b[39m\u001b[33m\u001b[1mWarning: \u001b[22m\u001b[39mCould not compute valid contours\n",
      "\u001b[33m\u001b[1m└ \u001b[22m\u001b[39m\u001b[90m@ PairPlots ~/.julia/packages/PairPlots/QGv02/src/PairPlots.jl:1115\u001b[39m\n",
      "\u001b[33m\u001b[1m┌ \u001b[22m\u001b[39m\u001b[33m\u001b[1mWarning: \u001b[22m\u001b[39mCould not compute valid contours\n",
      "\u001b[33m\u001b[1m└ \u001b[22m\u001b[39m\u001b[90m@ PairPlots ~/.julia/packages/PairPlots/QGv02/src/PairPlots.jl:1115\u001b[39m\n",
      "\u001b[33m\u001b[1m┌ \u001b[22m\u001b[39m\u001b[33m\u001b[1mWarning: \u001b[22m\u001b[39mCould not compute valid contours\n",
      "\u001b[33m\u001b[1m└ \u001b[22m\u001b[39m\u001b[90m@ PairPlots ~/.julia/packages/PairPlots/QGv02/src/PairPlots.jl:1115\u001b[39m\n",
      "\u001b[33m\u001b[1m┌ \u001b[22m\u001b[39m\u001b[33m\u001b[1mWarning: \u001b[22m\u001b[39mCould not compute valid contours\n",
      "\u001b[33m\u001b[1m└ \u001b[22m\u001b[39m\u001b[90m@ PairPlots ~/.julia/packages/PairPlots/QGv02/src/PairPlots.jl:1115\u001b[39m\n",
      "\u001b[33m\u001b[1m┌ \u001b[22m\u001b[39m\u001b[33m\u001b[1mWarning: \u001b[22m\u001b[39mCould not compute valid contours\n",
      "\u001b[33m\u001b[1m└ \u001b[22m\u001b[39m\u001b[90m@ PairPlots ~/.julia/packages/PairPlots/QGv02/src/PairPlots.jl:1115\u001b[39m\n",
      "\u001b[33m\u001b[1m┌ \u001b[22m\u001b[39m\u001b[33m\u001b[1mWarning: \u001b[22m\u001b[39mCould not compute valid contours\n",
      "\u001b[33m\u001b[1m└ \u001b[22m\u001b[39m\u001b[90m@ PairPlots ~/.julia/packages/PairPlots/QGv02/src/PairPlots.jl:1115\u001b[39m\n",
      "\u001b[33m\u001b[1m┌ \u001b[22m\u001b[39m\u001b[33m\u001b[1mWarning: \u001b[22m\u001b[39mCould not compute valid contours\n",
      "\u001b[33m\u001b[1m└ \u001b[22m\u001b[39m\u001b[90m@ PairPlots ~/.julia/packages/PairPlots/QGv02/src/PairPlots.jl:1115\u001b[39m\n"
     ]
    },
    {
     "name": "stdout",
     "output_type": "stream",
     "text": [
      "[skipped: InexactError(:trunc, Int64, -Inf)]\n",
      "trace_plot...[skipped: InterruptException()]\n",
      "moments..."
     ]
    }
   ],
   "source": [
    "using InferenceReport\n",
    "\n",
    "report(pt)"
   ]
  },
  {
   "cell_type": "code",
   "execution_count": 4,
   "metadata": {},
   "outputs": [
    {
     "name": "stderr",
     "output_type": "stream",
     "text": [
      "\u001b[33m\u001b[1m┌ \u001b[22m\u001b[39m\u001b[33m\u001b[1mWarning: \u001b[22m\u001b[39mLoading a shared object '/home/matthew/.julia/packages/Pigeons/UUYm9/examples/stan/unid_model.so' which is already loaded.\n",
      "\u001b[33m\u001b[1m│ \u001b[22m\u001b[39mIf the file has changed since the last time it was loaded, this load may not update the library!\n",
      "\u001b[33m\u001b[1m└ \u001b[22m\u001b[39m\u001b[90m@ BridgeStan ~/.julia/packages/BridgeStan/aKsXp/src/model.jl:58\u001b[39m\n",
      "\u001b[33m\u001b[1m┌ \u001b[22m\u001b[39m\u001b[33m\u001b[1mWarning: \u001b[22m\u001b[39mLoading a shared object '/home/matthew/.julia/packages/Pigeons/UUYm9/examples/stan/unid_model.so' which is already loaded.\n",
      "\u001b[33m\u001b[1m│ \u001b[22m\u001b[39mIf the file has changed since the last time it was loaded, this load may not update the library!\n",
      "\u001b[33m\u001b[1m└ \u001b[22m\u001b[39m\u001b[90m@ BridgeStan ~/.julia/packages/BridgeStan/aKsXp/src/model.jl:58\u001b[39m\n"
     ]
    },
    {
     "name": "stdout",
     "output_type": "stream",
     "text": [
      "──────────────────────────────────────────────────────────────────────────────────────────────────\n",
      "  scans        Λ        time(s)    allc(B)  log(Z₁/Z₀)   min(α)     mean(α)    min(αₑ)   mean(αₑ) \n",
      "────────── ────────── ────────── ────────── ────────── ────────── ────────── ────────── ──────────\n",
      "        2        1.3    0.00169   3.82e+04      -5.89     0.0027      0.856      0.351      0.569 \n",
      "        4       1.85    0.00443    4.6e+04      -4.38      0.592      0.794      0.369      0.585 \n",
      "        8       1.36    0.00858   7.79e+04      -4.83      0.282      0.849      0.519      0.618 \n",
      "       16       1.56     0.0177   1.39e+05      -4.88      0.595      0.827      0.503      0.586 \n",
      "       32       1.49     0.0304   2.14e+05      -4.55       0.67      0.835      0.568      0.654 \n",
      "       64        1.4     0.0607   2.73e+05      -4.84      0.695      0.844       0.57      0.628 \n",
      "      128       1.53      0.123   4.13e+05      -4.95      0.754       0.83      0.552      0.618 \n",
      "      256       1.56      0.244   6.58e+05      -5.04      0.737      0.827      0.556      0.632 \n",
      "      512       1.54      0.501    1.2e+06      -5.01      0.798      0.829      0.523      0.619 \n",
      " 1.02e+03        1.5      0.977   2.22e+06      -4.94      0.788      0.833      0.544      0.622 \n",
      "──────────────────────────────────────────────────────────────────────────────────────────────────\n"
     ]
    },
    {
     "data": {
      "text/plain": [
       "PT(checkpoint = false, ...)"
      ]
     },
     "execution_count": 4,
     "metadata": {},
     "output_type": "execute_result"
    }
   ],
   "source": [
    "using BridgeStan\n",
    "using Pigeons\n",
    "using Random\n",
    "\n",
    "# We will use this type to make sure our iid sampler (next section) will\n",
    "# be used only for this model\n",
    "struct StanUnidentifiableExample end\n",
    "\n",
    "function stan_unid(n_trials, n_successes)\n",
    "    # path to a .stan file (compiled files will be cached in the same directory)\n",
    "    stan_file = dirname(dirname(pathof(Pigeons))) * \"/examples/stan/unid.stan\"\n",
    "\n",
    "    # data can be specified either using...\n",
    "    #   - a path to a json file with suffix .json containing the data to condition on\n",
    "    #   - the JSON string itself (here via the utility Pigeons.json())\n",
    "    stan_data = Pigeons.json(; n_trials, n_successes)\n",
    "\n",
    "    return StanLogPotential(stan_file, stan_data, StanUnidentifiableExample())\n",
    "end\n",
    "\n",
    "pt = pigeons(target = stan_unid(100, 50), reference = stan_unid(0, 0),record = [traces; record_default()])\n"
   ]
  },
  {
   "cell_type": "code",
   "execution_count": 5,
   "metadata": {},
   "outputs": [
    {
     "name": "stdout",
     "output_type": "stream",
     "text": [
      "target_description...[skipped: no description provided]\n",
      "pair_plot... ✓\n",
      "trace_plot... ✓\n",
      "moments... ✓\n",
      "trace_plot_cumulative... ✓\n",
      "mpi_standard_out...[skipped: no MPI std out files found]\n",
      "lcb... ✓\n",
      "gcb_progress... ✓\n",
      "logz_progress... ✓\n",
      "round_trip_progress...[skipped: number restarts not recorded]\n",
      "pigeons_summary... ✓\n",
      "pigeons_inputs... ✓\n",
      "reproducibility_info...[skipped: missing reproducibility_command]\n"
     ]
    },
    {
     "name": "stderr",
     "output_type": "stream",
     "text": [
      "\u001b[33m\u001b[1m┌ \u001b[22m\u001b[39m\u001b[33m\u001b[1mWarning: \u001b[22m\u001b[39mUnable to determine HTML(edit_link = ...) from remote HEAD branch, defaulting to \"master\".\n",
      "\u001b[33m\u001b[1m│ \u001b[22m\u001b[39mCalling `git remote` failed with an exception. Set JULIA_DEBUG=Documenter to see the error.\n",
      "\u001b[33m\u001b[1m│ \u001b[22m\u001b[39mUnless this is due to a configuration error, the relevant variable should be set explicitly.\n",
      "\u001b[33m\u001b[1m└ \u001b[22m\u001b[39m\u001b[90m@ Documenter ~/.julia/packages/Documenter/CJeWX/src/utilities/utilities.jl:640\u001b[39m\n",
      "\u001b[36m\u001b[1m[ \u001b[22m\u001b[39m\u001b[36m\u001b[1mInfo: \u001b[22m\u001b[39mSetupBuildDirectory: setting up build directory.\n",
      "\u001b[36m\u001b[1m[ \u001b[22m\u001b[39m\u001b[36m\u001b[1mInfo: \u001b[22m\u001b[39mDoctest: running doctests.\n",
      "\u001b[36m\u001b[1m[ \u001b[22m\u001b[39m\u001b[36m\u001b[1mInfo: \u001b[22m\u001b[39mExpandTemplates: expanding markdown templates.\n",
      "\u001b[36m\u001b[1m[ \u001b[22m\u001b[39m\u001b[36m\u001b[1mInfo: \u001b[22m\u001b[39mCrossReferences: building cross-references.\n",
      "\u001b[36m\u001b[1m[ \u001b[22m\u001b[39m\u001b[36m\u001b[1mInfo: \u001b[22m\u001b[39mCheckDocument: running document checks.\n",
      "\u001b[36m\u001b[1m[ \u001b[22m\u001b[39m\u001b[36m\u001b[1mInfo: \u001b[22m\u001b[39mPopulate: populating indices.\n",
      "\u001b[36m\u001b[1m[ \u001b[22m\u001b[39m\u001b[36m\u001b[1mInfo: \u001b[22m\u001b[39mRenderDocument: rendering document.\n",
      "\u001b[36m\u001b[1m[ \u001b[22m\u001b[39m\u001b[36m\u001b[1mInfo: \u001b[22m\u001b[39mHTMLWriter: rendering HTML pages.\n",
      "\u001b[33m\u001b[1m┌ \u001b[22m\u001b[39m\u001b[33m\u001b[1mWarning: \u001b[22m\u001b[39mUnable to determine the repository root URL for the navbar link.\n",
      "\u001b[33m\u001b[1m│ \u001b[22m\u001b[39mThis can happen when a string is passed to the `repo` keyword of `makedocs`.\n",
      "\u001b[33m\u001b[1m│ \u001b[22m\u001b[39m\n",
      "\u001b[33m\u001b[1m│ \u001b[22m\u001b[39mTo remove this warning, either pass a Remotes.Remote object to `repo` to completely\n",
      "\u001b[33m\u001b[1m│ \u001b[22m\u001b[39mspecify the remote repository, or explicitly set the remote URL by setting `repolink`\n",
      "\u001b[33m\u001b[1m│ \u001b[22m\u001b[39mvia `makedocs(format = HTML(repolink = \"...\"), ...)`.\n",
      "\u001b[33m\u001b[1m└ \u001b[22m\u001b[39m\u001b[90m@ Documenter.HTMLWriter ~/.julia/packages/Documenter/CJeWX/src/html/HTMLWriter.jl:732\u001b[39m\n"
     ]
    },
    {
     "name": "stdout",
     "output_type": "stream",
     "text": [
      "Report generated at: /home/matthew/laopo/liquid_pigeon/results/all/2024-05-10-15-08-29-gJw7jy2L\n"
     ]
    },
    {
     "name": "stderr",
     "output_type": "stream",
     "text": [
      "\u001b[33m\u001b[1m┌ \u001b[22m\u001b[39m\u001b[33m\u001b[1mWarning: \u001b[22m\u001b[39mCannot extract version for inventory from /home/matthew/laopo/liquid_pigeon/results/all/Project.toml: no such file\n",
      "\u001b[33m\u001b[1m└ \u001b[22m\u001b[39m\u001b[90m@ Documenter.HTMLWriter ~/.julia/packages/Documenter/CJeWX/src/html/write_inventory.jl:89\u001b[39m\n",
      "\u001b[33m\u001b[1m┌ \u001b[22m\u001b[39m\u001b[33m\u001b[1mWarning: \u001b[22m\u001b[39mPlease set `inventory_version` in the `HTML()` options passed to `makedocs`.\n",
      "\u001b[33m\u001b[1m└ \u001b[22m\u001b[39m\u001b[90m@ Documenter.HTMLWriter ~/.julia/packages/Documenter/CJeWX/src/html/write_inventory.jl:98\u001b[39m\n",
      "\u001b[33m\u001b[1m┌ \u001b[22m\u001b[39m\u001b[33m\u001b[1mWarning: \u001b[22m\u001b[39mUnable to find `xdg-open`. Try `apt install xdg-open`\n",
      "\u001b[33m\u001b[1m└ \u001b[22m\u001b[39m\u001b[90m@ InferenceReport ~/.julia/packages/InferenceReport/FRdM0/src/utils.jl:21\u001b[39m\n"
     ]
    },
    {
     "data": {
      "text/plain": []
     },
     "execution_count": 5,
     "metadata": {},
     "output_type": "execute_result"
    }
   ],
   "source": [
    "using InferenceReport\n",
    "report(pt)"
   ]
  },
  {
   "cell_type": "code",
   "execution_count": null,
   "metadata": {},
   "outputs": [],
   "source": []
  }
 ],
 "metadata": {
  "kernelspec": {
   "display_name": "Julia 1.10.2",
   "language": "julia",
   "name": "julia-1.10"
  },
  "language_info": {
   "file_extension": ".jl",
   "mimetype": "application/julia",
   "name": "julia",
   "version": "1.10.2"
  }
 },
 "nbformat": 4,
 "nbformat_minor": 2
}
